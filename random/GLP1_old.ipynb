{
 "cells": [
  {
   "cell_type": "code",
   "execution_count": null,
   "metadata": {},
   "outputs": [],
   "source": [
    "import pandas as pd\n",
    "import re\n",
    "import numpy as np\n",
    "\n",
    "import tensorflow as tf\n",
    "import shap\n",
    "\n",
    "from sklearn.model_selection import train_test_split\n",
    "from sklearn.preprocessing import StandardScaler\n",
    "from sklearn.metrics import accuracy_score, confusion_matrix\n",
    "from sklearn.metrics import ConfusionMatrixDisplay\n"
   ]
  },
  {
   "cell_type": "code",
   "execution_count": null,
   "metadata": {},
   "outputs": [],
   "source": [
    "DANU_Ingredients = pd.read_csv(\"Source/DANU Ingredients.txt\", sep='\\t', dtype=str)"
   ]
  },
  {
   "cell_type": "code",
   "execution_count": null,
   "metadata": {},
   "outputs": [],
   "source": [
    "split_columns = DANU_Ingredients['drug_id'].str.split(':', n=1, expand=True)\n",
    "split_columns"
   ]
  },
  {
   "cell_type": "code",
   "execution_count": null,
   "metadata": {},
   "outputs": [],
   "source": [
    "DANU_Ingredients['class'] = split_columns[0]\n",
    "\n",
    "DANU_Ingredients['molecule'] = split_columns[1]"
   ]
  },
  {
   "cell_type": "code",
   "execution_count": null,
   "metadata": {},
   "outputs": [],
   "source": [
    "DANU_Ingredients"
   ]
  },
  {
   "cell_type": "code",
   "execution_count": null,
   "metadata": {},
   "outputs": [],
   "source": [
    "DANU_Ingredients['molecule'].nunique()"
   ]
  },
  {
   "cell_type": "code",
   "execution_count": null,
   "metadata": {},
   "outputs": [],
   "source": [
    "drug_group_filter = DANU_Ingredients['drug_group'].isin([\"GLP1 Injectable\", \"GLP1 Oral\"])\n",
    "\n",
    "filtered_molecules = DANU_Ingredients.loc[drug_group_filter, 'molecule']\n",
    "\n",
    "string_GLP1 = r'\\b(' + '|'.join(re.escape(molecule) for molecule in filtered_molecules) + r')\\b'"
   ]
  },
  {
   "cell_type": "code",
   "execution_count": null,
   "metadata": {},
   "outputs": [],
   "source": [
    "string_GLP1"
   ]
  },
  {
   "cell_type": "code",
   "execution_count": null,
   "metadata": {},
   "outputs": [],
   "source": [
    "DIA_Drug_Histories = pd.read_csv(\"Source/DIA Drug Histories.txt\", sep='\\t', dtype=str)\n",
    "Treatment_exp_Vector = pd.read_csv(\"Source/Treatment_exp_Vector.txt\", sep=',', dtype=str)"
   ]
  },
  {
   "cell_type": "code",
   "execution_count": null,
   "metadata": {},
   "outputs": [],
   "source": [
    "Treatment_exp_Vector"
   ]
  },
  {
   "cell_type": "code",
   "execution_count": null,
   "metadata": {},
   "outputs": [],
   "source": [
    "\n",
    "DIA_Drug_Histories = Treatment_exp_Vector.merge(DIA_Drug_Histories, on=['patient','weight'], how='left')"
   ]
  },
  {
   "cell_type": "code",
   "execution_count": null,
   "metadata": {},
   "outputs": [],
   "source": [
    "columns_to_drop = ['disease', 'weight']\n",
    "DIA_Drug_Histories = DIA_Drug_Histories.drop(columns=columns_to_drop)"
   ]
  },
  {
   "cell_type": "code",
   "execution_count": null,
   "metadata": {},
   "outputs": [],
   "source": [
    "DIA_Drug_Histories"
   ]
  },
  {
   "cell_type": "code",
   "execution_count": null,
   "metadata": {},
   "outputs": [],
   "source": [
    "value_vars = DIA_Drug_Histories.columns[DIA_Drug_Histories.columns != 'patient']\n",
    "value_vars"
   ]
  },
  {
   "cell_type": "code",
   "execution_count": null,
   "metadata": {},
   "outputs": [],
   "source": [
    "DIA_Drug_Histories = DIA_Drug_Histories.melt(id_vars=['patient'], var_name='Month', value_name='Drugs', \n",
    "                                             value_vars=value_vars, col_level=0)\n"
   ]
  },
  {
   "cell_type": "code",
   "execution_count": null,
   "metadata": {},
   "outputs": [],
   "source": [
    "DIA_Drug_Histories"
   ]
  },
  {
   "cell_type": "code",
   "execution_count": null,
   "metadata": {},
   "outputs": [],
   "source": [
    "DIA_Drug_Histories = DIA_Drug_Histories[DIA_Drug_Histories['Drugs'] != \"-\"]\n"
   ]
  },
  {
   "cell_type": "code",
   "execution_count": null,
   "metadata": {},
   "outputs": [],
   "source": [
    "DIA_Drug_Histories"
   ]
  },
  {
   "cell_type": "code",
   "execution_count": null,
   "metadata": {},
   "outputs": [],
   "source": [
    "patient = DIA_Drug_Histories[DIA_Drug_Histories['Drugs'].str.contains(string_GLP1, na=False)]\n",
    "patient = patient[['patient']]\n",
    "patient = patient.drop_duplicates()\n",
    "\n"
   ]
  },
  {
   "cell_type": "code",
   "execution_count": null,
   "metadata": {},
   "outputs": [],
   "source": [
    "patient"
   ]
  },
  {
   "cell_type": "code",
   "execution_count": null,
   "metadata": {},
   "outputs": [],
   "source": [
    "DIA_Drug_Histories"
   ]
  },
  {
   "cell_type": "code",
   "execution_count": null,
   "metadata": {},
   "outputs": [],
   "source": [
    "DIA_Drug_Histories = patient.merge(DIA_Drug_Histories, on='patient', how='left')\n",
    "\n",
    "DIA_Drug_Histories"
   ]
  },
  {
   "cell_type": "code",
   "execution_count": null,
   "metadata": {},
   "outputs": [],
   "source": [
    "DIA_Drug_Histories['Month'] = DIA_Drug_Histories['Month'].str.replace('month', 'm')"
   ]
  },
  {
   "cell_type": "code",
   "execution_count": null,
   "metadata": {},
   "outputs": [],
   "source": [
    "DIA_Drug_Histories"
   ]
  },
  {
   "cell_type": "code",
   "execution_count": null,
   "metadata": {},
   "outputs": [],
   "source": [
    "month_mapping = {\n",
    "    'm1': 'm01',\n",
    "    'm2': 'm02',\n",
    "    'm3': 'm03',\n",
    "    'm4': 'm04',\n",
    "    'm5': 'm05',\n",
    "    'm6': 'm06',\n",
    "    'm7': 'm07',\n",
    "    'm8': 'm08',\n",
    "    'm9': 'm09'\n",
    "}"
   ]
  },
  {
   "cell_type": "code",
   "execution_count": null,
   "metadata": {},
   "outputs": [],
   "source": [
    "DIA_Drug_Histories['Month'] = DIA_Drug_Histories['Month'].replace(month_mapping)\n"
   ]
  },
  {
   "cell_type": "code",
   "execution_count": null,
   "metadata": {},
   "outputs": [],
   "source": [
    "DIA_Drug_Histories"
   ]
  },
  {
   "cell_type": "code",
   "execution_count": null,
   "metadata": {},
   "outputs": [],
   "source": [
    "DIA_Drug_Histories['Drugs'] = DIA_Drug_Histories['Drugs'].str.split(',')\n",
    "\n",
    "DIA_Drug_Histories"
   ]
  },
  {
   "cell_type": "code",
   "execution_count": null,
   "metadata": {},
   "outputs": [],
   "source": [
    "DIA_Drug_Histories = DIA_Drug_Histories.explode('Drugs', ignore_index=True)\n"
   ]
  },
  {
   "cell_type": "code",
   "execution_count": null,
   "metadata": {},
   "outputs": [],
   "source": [
    "DIA_Drug_Histories"
   ]
  },
  {
   "cell_type": "code",
   "execution_count": null,
   "metadata": {},
   "outputs": [],
   "source": [
    "print(\"Unique Drugs Count:\", DIA_Drug_Histories['Drugs'].nunique())\n",
    "print(\"Unique Month Count:\", DIA_Drug_Histories['Month'].nunique())\n",
    "print(\"Unique Patient Count:\", DIA_Drug_Histories['patient'].nunique())"
   ]
  },
  {
   "cell_type": "code",
   "execution_count": null,
   "metadata": {},
   "outputs": [],
   "source": [
    "pd.DataFrame(DIA_Drug_Histories['Month'].unique()).rename(columns={0: \"M\"})\n",
    "\n",
    "pd.DataFrame(DIA_Drug_Histories['Drugs'].unique()).rename(columns={0: \"D\"})\n",
    "\n",
    "df = (pd.DataFrame(DIA_Drug_Histories['Month'].unique()).rename(columns={0: \"M\"}).assign(dummy=1)\n",
    "    .merge(pd.DataFrame(DIA_Drug_Histories['Drugs'].unique()).rename(columns={0: \"D\"}).assign(dummy=1), on='dummy')\n",
    "    .drop('dummy', axis=1)\n",
    ")\n",
    "\n",
    "df"
   ]
  },
  {
   "cell_type": "code",
   "execution_count": null,
   "metadata": {},
   "outputs": [],
   "source": [
    "df = df.assign(Var=df['M'] + '_' + df['D'])\n",
    "df = df.drop(columns=['M', 'D'])\n",
    "df"
   ]
  },
  {
   "cell_type": "code",
   "execution_count": null,
   "metadata": {},
   "outputs": [],
   "source": [
    "df['patient'] = 'PTxxxxxx'\n",
    "\n",
    "df = df[['patient', 'Var']] \n",
    "\n",
    "df['Exp'] = 0\n",
    "\n",
    "df"
   ]
  },
  {
   "cell_type": "code",
   "execution_count": null,
   "metadata": {},
   "outputs": [],
   "source": [
    "DIA_Drug_Histories"
   ]
  },
  {
   "cell_type": "code",
   "execution_count": null,
   "metadata": {},
   "outputs": [],
   "source": [
    "DIA_Drug_Histories = DIA_Drug_Histories.assign(Var=DIA_Drug_Histories['Month'] + '_' + DIA_Drug_Histories['Drugs'])\n",
    "\n",
    "DIA_Drug_Histories = DIA_Drug_Histories.drop(columns=['Month', 'Drugs'])"
   ]
  },
  {
   "cell_type": "code",
   "execution_count": null,
   "metadata": {},
   "outputs": [],
   "source": [
    "DIA_Drug_Histories"
   ]
  },
  {
   "cell_type": "code",
   "execution_count": null,
   "metadata": {},
   "outputs": [],
   "source": [
    "DIA_Drug_Histories['Exp'] = 1"
   ]
  },
  {
   "cell_type": "code",
   "execution_count": null,
   "metadata": {},
   "outputs": [],
   "source": [
    "DIA_Drug_Histories = DIA_Drug_Histories.sort_values(by=['patient', 'Var'])\n"
   ]
  },
  {
   "cell_type": "code",
   "execution_count": null,
   "metadata": {},
   "outputs": [],
   "source": [
    "DIA_Drug_Histories"
   ]
  },
  {
   "cell_type": "code",
   "execution_count": null,
   "metadata": {},
   "outputs": [],
   "source": [
    "DIA_Drug_Histories['Var'].nunique()"
   ]
  },
  {
   "cell_type": "code",
   "execution_count": null,
   "metadata": {},
   "outputs": [],
   "source": [
    "df['Var'].nunique()"
   ]
  },
  {
   "cell_type": "code",
   "execution_count": null,
   "metadata": {},
   "outputs": [],
   "source": [
    "DIA_Drug_Histories = pd.concat([DIA_Drug_Histories, df], ignore_index=True)"
   ]
  },
  {
   "cell_type": "code",
   "execution_count": null,
   "metadata": {},
   "outputs": [],
   "source": [
    "DIA_Drug_Histories = DIA_Drug_Histories.pivot(index='patient', columns='Var', values='Exp')"
   ]
  },
  {
   "cell_type": "code",
   "execution_count": null,
   "metadata": {},
   "outputs": [],
   "source": [
    "DIA_Drug_Histories"
   ]
  },
  {
   "cell_type": "code",
   "execution_count": null,
   "metadata": {},
   "outputs": [],
   "source": [
    "DIA_Drug_Histories = DIA_Drug_Histories.fillna(0)\n"
   ]
  },
  {
   "cell_type": "code",
   "execution_count": null,
   "metadata": {},
   "outputs": [],
   "source": [
    "DIA_Drug_Histories"
   ]
  },
  {
   "cell_type": "code",
   "execution_count": null,
   "metadata": {},
   "outputs": [],
   "source": [
    "DIA_Drug_Histories = DIA_Drug_Histories.drop(['PTxxxxxx'])"
   ]
  },
  {
   "cell_type": "code",
   "execution_count": null,
   "metadata": {},
   "outputs": [],
   "source": [
    "DIA_Drug_Histories.shape"
   ]
  },
  {
   "cell_type": "code",
   "execution_count": null,
   "metadata": {},
   "outputs": [],
   "source": [
    "DIA_Drug_Histories.to_csv(\"DIA_Drug_Histories_All_Months_Processed.txt\", sep='\\t', index=False)\n"
   ]
  },
  {
   "cell_type": "code",
   "execution_count": null,
   "metadata": {},
   "outputs": [],
   "source": [
    "DIA_Drug_Histories.groupby('m60_47').size().reset_index(name='Count')"
   ]
  },
  {
   "cell_type": "code",
   "execution_count": null,
   "metadata": {},
   "outputs": [],
   "source": [
    "sample_df = DIA_Drug_Histories.groupby('m60_47').apply(lambda x: x.sample(1500)).reset_index(drop=True)\n"
   ]
  },
  {
   "cell_type": "code",
   "execution_count": null,
   "metadata": {},
   "outputs": [],
   "source": [
    "sample_df.columns"
   ]
  },
  {
   "cell_type": "code",
   "execution_count": null,
   "metadata": {},
   "outputs": [],
   "source": [
    "sample_df.dtypes\n",
    "sample_df"
   ]
  },
  {
   "cell_type": "code",
   "execution_count": null,
   "metadata": {},
   "outputs": [],
   "source": [
    "X = sample_df.drop('m60_47', axis=1)  \n",
    "y = sample_df['m60_47']  \n",
    "\n",
    "X = X.values\n",
    "y = y.values\n"
   ]
  },
  {
   "cell_type": "code",
   "execution_count": null,
   "metadata": {},
   "outputs": [],
   "source": [
    "X_train, X_test, y_train, y_test = train_test_split(X, y, test_size=0.2, random_state=42)\n"
   ]
  },
  {
   "cell_type": "code",
   "execution_count": null,
   "metadata": {},
   "outputs": [],
   "source": [
    "y_test"
   ]
  },
  {
   "cell_type": "code",
   "execution_count": null,
   "metadata": {},
   "outputs": [],
   "source": [
    "# scaler = StandardScaler()\n",
    "# X_train = scaler.fit_transform(X_train)\n",
    "# X_test = scaler.transform(X_test)"
   ]
  },
  {
   "cell_type": "code",
   "execution_count": null,
   "metadata": {},
   "outputs": [],
   "source": [
    "model = tf.keras.Sequential([\n",
    "    tf.keras.layers.Dense(256, activation='relu', input_shape=(X_train.shape[1],)),\n",
    "    tf.keras.layers.Dense(128, activation='relu'),\n",
    "    tf.keras.layers.Dense(64, activation='relu'),\n",
    "     tf.keras.layers.Dense(32, activation='relu'),\n",
    "    tf.keras.layers.Dense(1, activation='sigmoid')\n",
    "])"
   ]
  },
  {
   "cell_type": "code",
   "execution_count": null,
   "metadata": {},
   "outputs": [],
   "source": [
    "model.compile(optimizer='adam', loss='binary_crossentropy', metrics=['accuracy'])\n"
   ]
  },
  {
   "cell_type": "code",
   "execution_count": null,
   "metadata": {},
   "outputs": [],
   "source": [
    "model.fit(X_train, y_train, epochs=100, batch_size=32, validation_split=0.2)\n"
   ]
  },
  {
   "cell_type": "code",
   "execution_count": null,
   "metadata": {},
   "outputs": [],
   "source": [
    "y_pred = model.predict(X_test)\n",
    "y_pred = (y_pred > 0.5)  \n"
   ]
  },
  {
   "cell_type": "code",
   "execution_count": null,
   "metadata": {},
   "outputs": [],
   "source": [
    "accuracy = accuracy_score(y_test, y_pred)\n",
    "accuracy"
   ]
  },
  {
   "cell_type": "code",
   "execution_count": null,
   "metadata": {},
   "outputs": [],
   "source": [
    "confusion = confusion_matrix(y_test, y_pred)\n",
    "confusion"
   ]
  },
  {
   "cell_type": "code",
   "execution_count": null,
   "metadata": {},
   "outputs": [],
   "source": [
    "display = ConfusionMatrixDisplay(confusion)\n",
    "display.plot()"
   ]
  },
  {
   "cell_type": "code",
   "execution_count": null,
   "metadata": {},
   "outputs": [],
   "source": [
    "explainer = shap.Explainer(model, X_train)\n",
    "shap_values = explainer(X_test, max_evals=3000)"
   ]
  },
  {
   "cell_type": "code",
   "execution_count": null,
   "metadata": {},
   "outputs": [],
   "source": [
    "\n",
    "shap.summary_plot(shap_values, X_test, feature_names=sample_df.columns.drop('m60_47'), max_display=20)"
   ]
  },
  {
   "cell_type": "code",
   "execution_count": null,
   "metadata": {},
   "outputs": [],
   "source": [
    "confusion_matrix(sample_df['m60_47'].values, sample_df['m50_47'].values)"
   ]
  },
  {
   "cell_type": "code",
   "execution_count": null,
   "metadata": {},
   "outputs": [],
   "source": [
    "sample_df"
   ]
  },
  {
   "cell_type": "code",
   "execution_count": null,
   "metadata": {},
   "outputs": [],
   "source": [
    "m01_df = sample_df.filter(like='m01_', axis=1).values\n",
    "m02_df = sample_df.filter(like='m02_', axis=1).values\n",
    "m03_df = sample_df.filter(like='m03_', axis=1).values\n",
    "m04_df = sample_df.filter(like='m04_', axis=1).values\n",
    "m05_df = sample_df.filter(like='m05_', axis=1).values\n",
    "m06_df = sample_df.filter(like='m06_', axis=1).values\n",
    "m07_df = sample_df.filter(like='m07_', axis=1).values\n",
    "m08_df = sample_df.filter(like='m08_', axis=1).values\n",
    "m09_df = sample_df.filter(like='m09_', axis=1).values\n",
    "m10_df = sample_df.filter(like='m10_', axis=1).values\n",
    "m11_df = sample_df.filter(like='m11_', axis=1).values\n",
    "m12_df = sample_df.filter(like='m12_', axis=1).values\n",
    "m13_df = sample_df.filter(like='m13_', axis=1).values\n",
    "m14_df = sample_df.filter(like='m14_', axis=1).values\n",
    "m15_df = sample_df.filter(like='m15_', axis=1).values\n",
    "m16_df = sample_df.filter(like='m16_', axis=1).values\n",
    "m17_df = sample_df.filter(like='m17_', axis=1).values\n",
    "m18_df = sample_df.filter(like='m18_', axis=1).values\n",
    "m19_df = sample_df.filter(like='m19_', axis=1).values\n",
    "m20_df = sample_df.filter(like='m20_', axis=1).values\n",
    "m21_df = sample_df.filter(like='m21_', axis=1).values\n",
    "m22_df = sample_df.filter(like='m22_', axis=1).values\n",
    "m23_df = sample_df.filter(like='m23_', axis=1).values\n",
    "m24_df = sample_df.filter(like='m24_', axis=1).values\n",
    "m25_df = sample_df.filter(like='m25_', axis=1).values\n",
    "m26_df = sample_df.filter(like='m26_', axis=1).values\n",
    "m27_df = sample_df.filter(like='m27_', axis=1).values\n",
    "m28_df = sample_df.filter(like='m28_', axis=1).values\n",
    "m29_df = sample_df.filter(like='m29_', axis=1).values\n",
    "m30_df = sample_df.filter(like='m30_', axis=1).values\n",
    "m31_df = sample_df.filter(like='m31_', axis=1).values\n",
    "m32_df = sample_df.filter(like='m32_', axis=1).values\n",
    "m33_df = sample_df.filter(like='m33_', axis=1).values\n",
    "m34_df = sample_df.filter(like='m34_', axis=1).values\n",
    "m35_df = sample_df.filter(like='m35_', axis=1).values\n",
    "m36_df = sample_df.filter(like='m36_', axis=1).values\n",
    "m37_df = sample_df.filter(like='m37_', axis=1).values\n",
    "m38_df = sample_df.filter(like='m38_', axis=1).values\n",
    "m39_df = sample_df.filter(like='m39_', axis=1).values\n",
    "m40_df = sample_df.filter(like='m40_', axis=1).values\n",
    "m41_df = sample_df.filter(like='m41_', axis=1).values\n",
    "m42_df = sample_df.filter(like='m42_', axis=1).values\n",
    "m43_df = sample_df.filter(like='m43_', axis=1).values\n",
    "m44_df = sample_df.filter(like='m44_', axis=1).values\n",
    "m45_df = sample_df.filter(like='m45_', axis=1).values\n",
    "m46_df = sample_df.filter(like='m46_', axis=1).values\n",
    "m47_df = sample_df.filter(like='m47_', axis=1).values\n",
    "m48_df = sample_df.filter(like='m48_', axis=1).values\n",
    "m49_df = sample_df.filter(like='m49_', axis=1).values\n",
    "m50_df = sample_df.filter(like='m50_', axis=1).values\n",
    "m51_df = sample_df.filter(like='m51_', axis=1).values\n",
    "m52_df = sample_df.filter(like='m52_', axis=1).values\n",
    "m53_df = sample_df.filter(like='m53_', axis=1).values\n",
    "m54_df = sample_df.filter(like='m54_', axis=1).values\n",
    "m55_df = sample_df.filter(like='m55_', axis=1).values\n",
    "m56_df = sample_df.filter(like='m56_', axis=1).values\n",
    "m57_df = sample_df.filter(like='m57_', axis=1).values\n",
    "m58_df = sample_df.filter(like='m58_', axis=1).values\n",
    "m59_df = sample_df.filter(like='m59_', axis=1).values\n",
    "m60_df = sample_df.filter(like='m60_', axis=1).values"
   ]
  },
  {
   "cell_type": "code",
   "execution_count": null,
   "metadata": {},
   "outputs": [],
   "source": [
    "np.stack([m01_df, m02_df, m03_df, m04_df, m05_df, m06_df, m07_df, m08_df, m09_df, m10_df, m11_df, m12_df, m13_df, m14_df, m15_df,\n",
    "          m16_df, m17_df, m18_df, m19_df, m20_df, m21_df, m22_df, m23_df, m24_df, m25_df, m26_df, m27_df, m28_df, m29_df, m30_df,\n",
    "          m31_df, m32_df, m33_df, m34_df, m35_df, m36_df, m37_df, m38_df, m39_df, m40_df, m41_df, m42_df, m43_df, m44_df, m45_df,\n",
    "          m46_df, m47_df, m48_df, m49_df, m50_df, m51_df, m52_df, m53_df, m54_df, m55_df, m56_df, m57_df, m58_df, m59_df, m60_df], axis = -1).shape"
   ]
  },
  {
   "cell_type": "code",
   "execution_count": null,
   "metadata": {},
   "outputs": [],
   "source": [
    "sample_df = np.stack([m01_df, m02_df, m03_df, m04_df, m05_df, m06_df, m07_df, m08_df, m09_df, m10_df, m11_df, m12_df, m13_df, m14_df, m15_df,\n",
    "          m16_df, m17_df, m18_df, m19_df, m20_df, m21_df, m22_df, m23_df, m24_df, m25_df, m26_df, m27_df, m28_df, m29_df, m30_df,\n",
    "          m31_df, m32_df, m33_df, m34_df, m35_df, m36_df, m37_df, m38_df, m39_df, m40_df, m41_df, m42_df, m43_df, m44_df, m45_df,\n",
    "          m46_df, m47_df, m48_df, m49_df, m50_df, m51_df, m52_df, m53_df, m54_df, m55_df, m56_df, m57_df, m58_df, m59_df, m60_df], axis = -1)"
   ]
  },
  {
   "cell_type": "code",
   "execution_count": null,
   "metadata": {},
   "outputs": [],
   "source": [
    "sample_df"
   ]
  },
  {
   "cell_type": "code",
   "execution_count": null,
   "metadata": {},
   "outputs": [],
   "source": [
    "X = np.delete(sample_df, 30, axis=1)\n",
    "X = X[:, :, :-1] \n",
    "X.shape"
   ]
  },
  {
   "cell_type": "code",
   "execution_count": null,
   "metadata": {},
   "outputs": [],
   "source": [
    "sample_df.shape"
   ]
  },
  {
   "cell_type": "code",
   "execution_count": null,
   "metadata": {},
   "outputs": [],
   "source": [
    "y = sample_df[:, 30, :] "
   ]
  },
  {
   "cell_type": "code",
   "execution_count": null,
   "metadata": {},
   "outputs": [],
   "source": [
    "y.shape"
   ]
  },
  {
   "cell_type": "code",
   "execution_count": null,
   "metadata": {},
   "outputs": [],
   "source": [
    "X_train, X_test, y_train, y_test = train_test_split(X, y, test_size=0.2, random_state=42)\n"
   ]
  },
  {
   "cell_type": "code",
   "execution_count": null,
   "metadata": {},
   "outputs": [],
   "source": [
    "X_test.shape"
   ]
  },
  {
   "cell_type": "code",
   "execution_count": null,
   "metadata": {},
   "outputs": [],
   "source": [
    "(X_train.shape[1], X_train.shape[2])"
   ]
  },
  {
   "cell_type": "code",
   "execution_count": null,
   "metadata": {},
   "outputs": [],
   "source": [
    "model = tf.keras.Sequential([\n",
    "    tf.keras.layers.LSTM(512, activation='relu', input_shape=((X_train.shape[1], X_train.shape[2]))),\n",
    "     tf.keras.layers.Dense(256, activation='relu'),\n",
    "    tf.keras.layers.Dense(128, activation='relu'),\n",
    "    tf.keras.layers.Dense(64, activation='relu'),\n",
    "    tf.keras.layers.Dense(y_train.shape[1], activation='sigmoid')  \n",
    "])"
   ]
  },
  {
   "cell_type": "code",
   "execution_count": null,
   "metadata": {},
   "outputs": [],
   "source": [
    "print(model.summary())"
   ]
  },
  {
   "cell_type": "code",
   "execution_count": null,
   "metadata": {},
   "outputs": [],
   "source": [
    "model.compile(optimizer='adam', loss='binary_crossentropy', metrics=['accuracy']) "
   ]
  },
  {
   "cell_type": "code",
   "execution_count": null,
   "metadata": {},
   "outputs": [],
   "source": [
    "model.fit(X_train, y_train, epochs=10, batch_size=16, validation_split=0.2)\n"
   ]
  },
  {
   "cell_type": "code",
   "execution_count": null,
   "metadata": {},
   "outputs": [],
   "source": [
    "loss, accuracy = model.evaluate(X_test, y_test)\n",
    "print(\"Test Loss:\", loss)\n",
    "print(\"Test Accuracy:\", accuracy)"
   ]
  },
  {
   "cell_type": "code",
   "execution_count": null,
   "metadata": {},
   "outputs": [],
   "source": [
    "y_pred = model.predict(X_test)\n",
    "y_pred.shape\n"
   ]
  },
  {
   "cell_type": "code",
   "execution_count": null,
   "metadata": {},
   "outputs": [],
   "source": [
    "y_pred = (y_pred[:,-1] > 0.5)  "
   ]
  },
  {
   "cell_type": "code",
   "execution_count": null,
   "metadata": {},
   "outputs": [],
   "source": [
    "y_test[:,-1] "
   ]
  },
  {
   "cell_type": "code",
   "execution_count": null,
   "metadata": {},
   "outputs": [],
   "source": [
    "\n",
    "accuracy = accuracy_score(y_test[:,-1] , y_pred)\n",
    "accuracy\n"
   ]
  },
  {
   "cell_type": "code",
   "execution_count": null,
   "metadata": {},
   "outputs": [],
   "source": [
    "\n",
    "confusion = confusion_matrix(y_test[:,-1], y_pred)\n",
    "confusion\n"
   ]
  },
  {
   "cell_type": "code",
   "execution_count": null,
   "metadata": {},
   "outputs": [],
   "source": [
    "display = ConfusionMatrixDisplay(confusion)\n",
    "display.plot()"
   ]
  },
  {
   "cell_type": "code",
   "execution_count": null,
   "metadata": {},
   "outputs": [],
   "source": [
    "import tensorflow as tf\n",
    "\n",
    "# Check if GPU is available\n",
    "if tf.test.gpu_device_name():\n",
    "    print('Default GPU Device: {}'.format(tf.test.gpu_device_name()))\n",
    "else:\n",
    "    print(\"GPU not found. Defaulting to CPU.\")"
   ]
  }
 ],
 "metadata": {
  "kernelspec": {
   "display_name": "venv",
   "language": "python",
   "name": "python3"
  },
  "language_info": {
   "codemirror_mode": {
    "name": "ipython",
    "version": 3
   },
   "file_extension": ".py",
   "mimetype": "text/x-python",
   "name": "python",
   "nbconvert_exporter": "python",
   "pygments_lexer": "ipython3",
   "version": "3.10.6"
  }
 },
 "nbformat": 4,
 "nbformat_minor": 2
}
