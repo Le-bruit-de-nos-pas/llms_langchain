{
 "cells": [
  {
   "cell_type": "code",
   "execution_count": null,
   "metadata": {},
   "outputs": [],
   "source": [
    "import pandas as pd\n",
    "import re\n",
    "import numpy as np\n",
    "\n",
    "import tensorflow as tf\n",
    "from tensorflow.keras.models import Sequential\n",
    "from tensorflow.keras.layers import LSTM, Dense, TimeDistributed\n",
    "from tensorflow.keras.models import load_model\n"
   ]
  },
  {
   "cell_type": "code",
   "execution_count": null,
   "metadata": {},
   "outputs": [],
   "source": [
    "DANU_Ingredients = pd.read_csv(\"Source/DANU Ingredients.txt\", sep='\\t', dtype=str)\n",
    "split_columns = DANU_Ingredients['drug_id'].str.split(':', n=1, expand=True)\n",
    "DANU_Ingredients['class'] = split_columns[0]\n",
    "DANU_Ingredients['molecule'] = split_columns[1]\n",
    "DANU_Ingredients['molecule'].nunique()"
   ]
  },
  {
   "cell_type": "code",
   "execution_count": null,
   "metadata": {},
   "outputs": [],
   "source": [
    "drug_group_filter = DANU_Ingredients['drug_group'].isin([\"GLP1 Injectable\", \"GLP1 Oral\"])\n",
    "filtered_molecules = DANU_Ingredients.loc[drug_group_filter, 'molecule']\n",
    "string_GLP1 = r'\\b(' + '|'.join(re.escape(molecule) for molecule in filtered_molecules) + r')\\b'"
   ]
  },
  {
   "cell_type": "code",
   "execution_count": null,
   "metadata": {},
   "outputs": [],
   "source": [
    "DIA_Drug_Histories = pd.read_csv(\"Source/DIA Drug Histories.txt\", sep='\\t', dtype=str)\n",
    "Treatment_exp_Vector = pd.read_csv(\"Source/Treatment_exp_Vector.txt\", sep=',', dtype=str)\n",
    "DIA_Drug_Histories = Treatment_exp_Vector.merge(DIA_Drug_Histories, on=['patient','weight'], how='left')\n",
    "columns_to_drop = ['disease', 'weight']\n",
    "DIA_Drug_Histories = DIA_Drug_Histories.drop(columns=columns_to_drop)"
   ]
  },
  {
   "cell_type": "code",
   "execution_count": null,
   "metadata": {},
   "outputs": [],
   "source": [
    "value_vars = DIA_Drug_Histories.columns[DIA_Drug_Histories.columns != 'patient']\n",
    "DIA_Drug_Histories = DIA_Drug_Histories.melt(id_vars=['patient'], var_name='Month', value_name='Drugs', value_vars=value_vars, col_level=0)"
   ]
  },
  {
   "cell_type": "code",
   "execution_count": null,
   "metadata": {},
   "outputs": [],
   "source": [
    "DIA_Drug_Histories = DIA_Drug_Histories[DIA_Drug_Histories['Drugs'] != \"-\"]\n",
    "DIA_Drug_Histories['Month'] = DIA_Drug_Histories['Month'].str.replace('month', 'm')"
   ]
  },
  {
   "cell_type": "code",
   "execution_count": null,
   "metadata": {},
   "outputs": [],
   "source": [
    "month_mapping = {\n",
    "    'm1': 'm01',\n",
    "    'm2': 'm02',\n",
    "    'm3': 'm03',\n",
    "    'm4': 'm04',\n",
    "    'm5': 'm05',\n",
    "    'm6': 'm06',\n",
    "    'm7': 'm07',\n",
    "    'm8': 'm08',\n",
    "    'm9': 'm09'\n",
    "}"
   ]
  },
  {
   "cell_type": "code",
   "execution_count": null,
   "metadata": {},
   "outputs": [],
   "source": [
    "DIA_Drug_Histories['Month'] = DIA_Drug_Histories['Month'].replace(month_mapping)\n",
    "DIA_Drug_Histories['Drugs'] = DIA_Drug_Histories['Drugs'].str.split(',')\n",
    "DIA_Drug_Histories = DIA_Drug_Histories.explode('Drugs', ignore_index=True)"
   ]
  },
  {
   "cell_type": "code",
   "execution_count": null,
   "metadata": {},
   "outputs": [],
   "source": [
    "print(\"Unique Drugs Count:\", DIA_Drug_Histories['Drugs'].nunique())\n",
    "print(\"Unique Month Count:\", DIA_Drug_Histories['Month'].nunique())\n",
    "print(\"Unique Patient Count:\", DIA_Drug_Histories['patient'].nunique())"
   ]
  },
  {
   "cell_type": "code",
   "execution_count": null,
   "metadata": {},
   "outputs": [],
   "source": [
    "#pd.DataFrame(DIA_Drug_Histories['Month'].unique()).rename(columns={0: \"M\"})\n",
    "#pd.DataFrame(DIA_Drug_Histories['Drugs'].unique()).rename(columns={0: \"D\"})\n",
    "\n",
    "#df = (pd.DataFrame(DIA_Drug_Histories['Month'].unique()).rename(columns={0: \"M\"}).assign(dummy=1)\n",
    "#    .merge(pd.DataFrame(DIA_Drug_Histories['Drugs'].unique()).rename(columns={0: \"D\"}).assign(dummy=1), on='dummy')\n",
    "#    .drop('dummy', axis=1))\n",
    "\n"
   ]
  },
  {
   "cell_type": "code",
   "execution_count": null,
   "metadata": {},
   "outputs": [],
   "source": [
    "# df['patient'] = 'PTxxxxxx'\n",
    "# df['Exp'] = 0\n"
   ]
  },
  {
   "cell_type": "code",
   "execution_count": null,
   "metadata": {},
   "outputs": [],
   "source": [
    "DIA_Drug_Histories['Exp'] = 1\n",
    "DIA_Drug_Histories = DIA_Drug_Histories.sort_values(by=['patient', 'Month', 'Drugs'])"
   ]
  },
  {
   "cell_type": "code",
   "execution_count": null,
   "metadata": {},
   "outputs": [],
   "source": [
    "# df = df[['patient', 'M', 'D', 'Exp']]\n",
    "# df = df.rename(columns={\"M\": \"Month\", \"D\": \"Drugs\"})"
   ]
  },
  {
   "cell_type": "code",
   "execution_count": null,
   "metadata": {},
   "outputs": [],
   "source": [
    "# DIA_Drug_Histories = pd.concat([DIA_Drug_Histories, df], ignore_index=True)\n",
    "DIA_Drug_Histories = DIA_Drug_Histories.drop_duplicates(subset=['patient', 'Month' , 'Drugs', 'Exp'])"
   ]
  },
  {
   "cell_type": "code",
   "execution_count": null,
   "metadata": {},
   "outputs": [],
   "source": [
    "DIA_Drug_Histories['Drugs'].nunique()\n",
    "DIA_Drug_Histories"
   ]
  },
  {
   "cell_type": "code",
   "execution_count": null,
   "metadata": {},
   "outputs": [],
   "source": [
    "sampled_patients = DIA_Drug_Histories['patient'].drop_duplicates().sample(n=50000, random_state=42)\n",
    "DIA_Drug_Histories = DIA_Drug_Histories[DIA_Drug_Histories['patient'].isin(sampled_patients)]\n",
    "DIA_Drug_Histories"
   ]
  },
  {
   "cell_type": "code",
   "execution_count": null,
   "metadata": {},
   "outputs": [],
   "source": [
    "patients = DIA_Drug_Histories['patient'].unique()\n",
    "months = DIA_Drug_Histories['Month'].unique() \n",
    "drugs = DIA_Drug_Histories['Drugs'].unique()\n",
    "\n",
    "all_combinations = pd.MultiIndex.from_product([patients, months, drugs], names=['patient', 'Month', 'Drugs'])\n",
    "all_combinations_df = pd.DataFrame(index=all_combinations).reset_index()\n",
    "\n",
    "merged_df = pd.merge(all_combinations_df, DIA_Drug_Histories, on=['patient', 'Month', 'Drugs'], how='left').fillna(0)\n"
   ]
  },
  {
   "cell_type": "code",
   "execution_count": null,
   "metadata": {},
   "outputs": [],
   "source": [
    "merged_df"
   ]
  },
  {
   "cell_type": "code",
   "execution_count": null,
   "metadata": {},
   "outputs": [],
   "source": [
    "merged_df = merged_df.sort_values(['patient', 'Month', \"Drugs\"], ascending=[True, True, True])\n",
    "\n",
    "merged_df = merged_df[merged_df['Drugs'] != 0]"
   ]
  },
  {
   "cell_type": "code",
   "execution_count": null,
   "metadata": {},
   "outputs": [],
   "source": [
    "pivot_df = merged_df.pivot_table(index='patient', columns=['Month', 'Drugs'], values='Exp', fill_value=0)\n",
    "pivot_df = pivot_df.sort_index(axis=1, level=[0, 1])\n"
   ]
  },
  {
   "cell_type": "code",
   "execution_count": null,
   "metadata": {},
   "outputs": [],
   "source": [
    "pivot_df"
   ]
  },
  {
   "cell_type": "code",
   "execution_count": null,
   "metadata": {},
   "outputs": [],
   "source": [
    "patients = merged_df['patient'].unique()\n",
    "months = merged_df['Month'].unique()\n",
    "drugs = merged_df['Drugs'].unique()\n",
    "\n",
    "n_patients = len(patients)\n",
    "n_months = 60\n",
    "n_drugs = len(drugs)\n"
   ]
  },
  {
   "cell_type": "code",
   "execution_count": null,
   "metadata": {},
   "outputs": [],
   "source": [
    "drugs"
   ]
  },
  {
   "cell_type": "code",
   "execution_count": null,
   "metadata": {},
   "outputs": [],
   "source": [
    "data_3d = pivot_df.values.reshape((n_patients, n_months, n_drugs))\n",
    "data_3d"
   ]
  },
  {
   "cell_type": "code",
   "execution_count": null,
   "metadata": {},
   "outputs": [],
   "source": [
    "print(data_3d.shape)\n",
    "n_patients, n_months, n_drugs = data_3d.shape"
   ]
  },
  {
   "cell_type": "code",
   "execution_count": null,
   "metadata": {},
   "outputs": [],
   "source": [
    "X = data_3d[:, :-1, :]  # All months except the last for input\n",
    "y = data_3d[:, 1:, :]   # All months except the first for target (predict next month)"
   ]
  },
  {
   "cell_type": "code",
   "execution_count": null,
   "metadata": {},
   "outputs": [],
   "source": [
    "model = Sequential()\n",
    "model.add(LSTM(50, activation='relu', return_sequences=True, input_shape=(n_months-1, n_drugs)))\n",
    "model.add(TimeDistributed(Dense(n_drugs, activation='sigmoid')))  # Output layer with sigmoid activation for binary output\n",
    "model.compile(optimizer='adam', loss='binary_crossentropy')  # Use binary cross-entropy loss for binary classification\n",
    "\n",
    "\n",
    "# Train the model\n",
    "history = model.fit(X, y, epochs=20, batch_size=32, verbose=1)\n"
   ]
  },
  {
   "cell_type": "code",
   "execution_count": null,
   "metadata": {},
   "outputs": [],
   "source": [
    "import matplotlib.pyplot as plt\n",
    "\n",
    "plt.plot(history.history['loss'])\n",
    "plt.title('Model Loss')\n",
    "plt.ylabel('Loss')\n",
    "plt.xlabel('Epoch')\n",
    "plt.legend(['Train'], loc='upper right')\n",
    "plt.show()"
   ]
  },
  {
   "cell_type": "code",
   "execution_count": null,
   "metadata": {},
   "outputs": [],
   "source": [
    "loss = model.evaluate(X, y, verbose=0)\n",
    "print(f\"Model Loss: {loss}\")"
   ]
  },
  {
   "cell_type": "code",
   "execution_count": null,
   "metadata": {},
   "outputs": [],
   "source": [
    "# model.save('drug_usage_lstm_model.h5')\n",
    "\n",
    "# loaded_model = load_model('drug_usage_lstm_model.h5')"
   ]
  },
  {
   "cell_type": "code",
   "execution_count": null,
   "metadata": {},
   "outputs": [],
   "source": [
    "# Initialize an empty list to store predictions\n",
    "all_predictions = []\n",
    "\n",
    "# Initialize the input data with the original data\n",
    "input_data = data_3d.copy()\n",
    "\n",
    "# Number of future months to predict\n",
    "n_future_months = 12\n",
    "\n",
    "# Predict drug usage for each future month\n",
    "for _ in range(n_future_months):\n",
    "    # Predict drug usage for the next month\n",
    "    next_month_predictions = model.predict(input_data[:, -1:, :])\n",
    "    \n",
    "    next_month_predictions = np.where(next_month_predictions > 0.1, 1, 0)\n",
    "    \n",
    "    # Reshape next_month_predictions to match input_data dimensions\n",
    "    next_month_predictions = next_month_predictions.reshape((next_month_predictions.shape[0], 1, next_month_predictions.shape[2]))\n",
    "    \n",
    "\n",
    "    # Append the predictions to the list of all predictions\n",
    "    all_predictions.append(next_month_predictions)\n",
    "    \n",
    "    # Append the predictions to the input data for the next iteration\n",
    "    input_data = np.concatenate([input_data, next_month_predictions], axis=1)\n",
    "    \n",
    "    # Remove the oldest month from the input data to maintain the same input shape\n",
    "    input_data = input_data[:, 1:, :]\n",
    "\n",
    "# Convert the list of predictions to a numpy array\n",
    "all_predictions = np.array(all_predictions)\n",
    "\n",
    "# all_predictions will have shape (n_future_months, n_patients, 1, n_drugs)\n"
   ]
  },
  {
   "cell_type": "code",
   "execution_count": null,
   "metadata": {},
   "outputs": [],
   "source": [
    "next_month_predictions"
   ]
  },
  {
   "cell_type": "code",
   "execution_count": null,
   "metadata": {},
   "outputs": [],
   "source": [
    "all_predictions.shape"
   ]
  },
  {
   "cell_type": "code",
   "execution_count": null,
   "metadata": {},
   "outputs": [],
   "source": [
    "all_predictions"
   ]
  },
  {
   "cell_type": "code",
   "execution_count": null,
   "metadata": {},
   "outputs": [],
   "source": [
    "binary_predictions = np.where(all_predictions > 0.5, 1, 0)\n",
    "binary_predictions"
   ]
  },
  {
   "cell_type": "code",
   "execution_count": null,
   "metadata": {},
   "outputs": [],
   "source": [
    "input_data.shape\n",
    "binary_predictions.shape\n",
    "input_data.shape"
   ]
  },
  {
   "cell_type": "code",
   "execution_count": null,
   "metadata": {},
   "outputs": [],
   "source": [
    "count_zeros = np.count_nonzero(binary_predictions == 0)\n",
    "count_ones = np.count_nonzero(binary_predictions == 1)\n",
    "\n",
    "print(\"Number of 0s:\", count_zeros)\n",
    "print(\"Number of 1s:\", count_ones)"
   ]
  },
  {
   "cell_type": "code",
   "execution_count": null,
   "metadata": {},
   "outputs": [],
   "source": [
    "drugs"
   ]
  },
  {
   "cell_type": "code",
   "execution_count": null,
   "metadata": {},
   "outputs": [],
   "source": [
    "# Sum along the axis representing the patients (axis 1)\n",
    "sum_per_month_per_drug = np.sum(all_predictions, axis=1)\n",
    "\n",
    "# Print the counts for each drug in each month\n",
    "for month_index, counts_per_drug in enumerate(sum_per_month_per_drug):\n",
    "    print(f\"Month {month_index + 1}:\")\n",
    "    for drug_index, count in enumerate(counts_per_drug[0]):\n",
    "        print(f\"  Drug {drug_index + 1}: {count} 1s\")"
   ]
  },
  {
   "cell_type": "code",
   "execution_count": null,
   "metadata": {},
   "outputs": [],
   "source": [
    "# Transpose binary_predictions to match the shape of input_data\n",
    "transposed_predictions = all_predictions.transpose((1, 0, 2, 3))\n",
    "\n",
    "# Initialize an empty array to store the appended data\n",
    "appended_data = np.empty((50000, 72, 38))\n",
    "\n",
    "# Copy the original data into the appended data\n",
    "appended_data[:, :60, :] = input_data\n",
    "\n",
    "# Append the predicted months to the appended data\n",
    "appended_data[:, 60:, :] = transposed_predictions[:, :, 0, :]\n",
    "\n",
    "# Verify the shape of the appended data\n",
    "print(\"Shape of appended data:\", appended_data.shape)\n"
   ]
  },
  {
   "cell_type": "code",
   "execution_count": null,
   "metadata": {},
   "outputs": [],
   "source": [
    "print(\"Shape of counts_per_drug_per_month:\", counts_per_drug_per_month.shape)\n",
    "print(\"Shape of appended_data:\", appended_data.shape)"
   ]
  },
  {
   "cell_type": "code",
   "execution_count": null,
   "metadata": {},
   "outputs": [],
   "source": [
    "counts_per_drug_per_month = np.sum(appended_data, axis=(0))\n",
    "\n",
    "counts_per_drug_per_month = counts_per_drug_per_month.reshape((72, 38))\n",
    "\n",
    "# Plot the counts for each drug over time\n",
    "import matplotlib.pyplot as plt\n",
    "\n",
    "# Set up the figure and axis\n",
    "plt.figure(figsize=(12, 6))\n",
    "plt.title('Drug Usage Over Time')\n",
    "plt.xlabel('Month')\n",
    "plt.ylabel('Count of 1s')\n",
    "\n",
    "# Plot each drug\n",
    "for drug_index in range(counts_per_drug_per_month.shape[1]):\n",
    "    plt.plot(range(1, 73), counts_per_drug_per_month[:, drug_index], label=f'Drug {drug_index + 1}')\n",
    "\n",
    "# Add legend and show plot\n",
    "plt.legend()\n",
    "plt.grid(True)\n",
    "plt.show()"
   ]
  },
  {
   "cell_type": "code",
   "execution_count": null,
   "metadata": {},
   "outputs": [],
   "source": [
    "# Plot the counts for each drug over time (filtering for drug indices >= 29)\n",
    "plt.figure(figsize=(12, 6))\n",
    "plt.title('Drug Usage Over Time')\n",
    "plt.xlabel('Month')\n",
    "plt.ylabel('Count of 1s')\n",
    "\n",
    "# Plot each drug with index >= 29\n",
    "for drug_index in range(31, counts_per_drug_per_month.shape[1]):\n",
    "    plt.plot(range(1, 73), counts_per_drug_per_month[:, drug_index], label=f'Drug {drug_index + 1}')\n",
    "\n",
    "# Add legend and show plot\n",
    "plt.legend()\n",
    "plt.grid(True)\n",
    "plt.show()"
   ]
  }
 ],
 "metadata": {
  "kernelspec": {
   "display_name": "venv",
   "language": "python",
   "name": "python3"
  },
  "language_info": {
   "codemirror_mode": {
    "name": "ipython",
    "version": 3
   },
   "file_extension": ".py",
   "mimetype": "text/x-python",
   "name": "python",
   "nbconvert_exporter": "python",
   "pygments_lexer": "ipython3",
   "version": "3.10.6"
  }
 },
 "nbformat": 4,
 "nbformat_minor": 2
}
