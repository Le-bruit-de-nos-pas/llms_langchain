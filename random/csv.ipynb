{
 "cells": [
  {
   "cell_type": "code",
   "execution_count": 1,
   "metadata": {},
   "outputs": [
    {
     "name": "stdout",
     "output_type": "stream",
     "text": [
      "Note: you may need to restart the kernel to use updated packages.\n"
     ]
    },
    {
     "name": "stderr",
     "output_type": "stream",
     "text": [
      "\n",
      "[notice] A new release of pip is available: 23.0.1 -> 24.0\n",
      "[notice] To update, run: python.exe -m pip install --upgrade pip\n"
     ]
    }
   ],
   "source": [
    "%pip install -qU langchain langchain-openai langchain-community langchain-experimental pandas"
   ]
  },
  {
   "cell_type": "code",
   "execution_count": 1,
   "metadata": {},
   "outputs": [],
   "source": [
    "import os\n",
    "os.environ[\"OPENAI_API_KEY\"] = \"\"\n"
   ]
  },
  {
   "cell_type": "code",
   "execution_count": 2,
   "metadata": {},
   "outputs": [
    {
     "name": "stdout",
     "output_type": "stream",
     "text": [
      "(43347, 5)\n",
      "['patient_id', 'month', 'molecule_name', 'class_name', 'patient_stock_name']\n"
     ]
    }
   ],
   "source": [
    "import pandas as pd\n",
    "\n",
    "df = pd.read_csv(\"ZAVUS24_Drug_Histories.csv\")\n",
    "print(df.shape)\n",
    "print(df.columns.tolist())"
   ]
  },
  {
   "cell_type": "code",
   "execution_count": 7,
   "metadata": {},
   "outputs": [
    {
     "name": "stdout",
     "output_type": "stream",
     "text": [
      "['Lapsed' 'Preventive' 'Symptomatic' 'Naive' 'Triptans' 'CGRP Injectable'\n",
      " 'CGRP Oral' 'CGRP Nasal']\n"
     ]
    }
   ],
   "source": [
    "print(df['patient_stock_name'].unique())"
   ]
  },
  {
   "cell_type": "code",
   "execution_count": 8,
   "metadata": {},
   "outputs": [
    {
     "name": "stdout",
     "output_type": "stream",
     "text": [
      "['lapsed' 'NSAID' 'Weak Opioid' 'Antiemetic' 'Steroid' 'Sedative'\n",
      " 'Antipsychotic' 'Triptan' 'Antiepileptic' 'SSRI' 'Strong Opioid' 'SNRI'\n",
      " 'Neural' 'Muscle Relaxant' 'Cardiovascular' 'Beta Blocker'\n",
      " 'CGRP Injectable' 'Analgesic' 'Ergot' 'Tricyclic' 'Calcium Blocker'\n",
      " 'CGRP Oral' 'Ditan' 'CGRP Nasal']\n"
     ]
    }
   ],
   "source": [
    "print(df['class_name'].unique())"
   ]
  },
  {
   "cell_type": "code",
   "execution_count": 40,
   "metadata": {},
   "outputs": [
    {
     "ename": "ValueError",
     "evalue": "Table 'zavegepant' already exists.",
     "output_type": "error",
     "traceback": [
      "\u001b[1;31m---------------------------------------------------------------------------\u001b[0m",
      "\u001b[1;31mValueError\u001b[0m                                Traceback (most recent call last)",
      "Cell \u001b[1;32mIn[40], line 5\u001b[0m\n\u001b[0;32m      2\u001b[0m \u001b[38;5;28;01mfrom\u001b[39;00m \u001b[38;5;21;01msqlalchemy\u001b[39;00m \u001b[38;5;28;01mimport\u001b[39;00m create_engine\n\u001b[0;32m      4\u001b[0m engine \u001b[38;5;241m=\u001b[39m create_engine(\u001b[38;5;124m\"\u001b[39m\u001b[38;5;124msqlite:///zavegepant.db\u001b[39m\u001b[38;5;124m\"\u001b[39m)\n\u001b[1;32m----> 5\u001b[0m \u001b[43mdf\u001b[49m\u001b[38;5;241;43m.\u001b[39;49m\u001b[43mto_sql\u001b[49m\u001b[43m(\u001b[49m\u001b[38;5;124;43m\"\u001b[39;49m\u001b[38;5;124;43mzavegepant\u001b[39;49m\u001b[38;5;124;43m\"\u001b[39;49m\u001b[43m,\u001b[49m\u001b[43m \u001b[49m\u001b[43mengine\u001b[49m\u001b[43m,\u001b[49m\u001b[43m \u001b[49m\u001b[43mindex\u001b[49m\u001b[38;5;241;43m=\u001b[39;49m\u001b[38;5;28;43;01mFalse\u001b[39;49;00m\u001b[43m)\u001b[49m\n",
      "File \u001b[1;32m~\\AppData\\Local\\Packages\\PythonSoftwareFoundation.Python.3.10_qbz5n2kfra8p0\\LocalCache\\local-packages\\Python310\\site-packages\\pandas\\util\\_decorators.py:333\u001b[0m, in \u001b[0;36mdeprecate_nonkeyword_arguments.<locals>.decorate.<locals>.wrapper\u001b[1;34m(*args, **kwargs)\u001b[0m\n\u001b[0;32m    327\u001b[0m \u001b[38;5;28;01mif\u001b[39;00m \u001b[38;5;28mlen\u001b[39m(args) \u001b[38;5;241m>\u001b[39m num_allow_args:\n\u001b[0;32m    328\u001b[0m     warnings\u001b[38;5;241m.\u001b[39mwarn(\n\u001b[0;32m    329\u001b[0m         msg\u001b[38;5;241m.\u001b[39mformat(arguments\u001b[38;5;241m=\u001b[39m_format_argument_list(allow_args)),\n\u001b[0;32m    330\u001b[0m         \u001b[38;5;167;01mFutureWarning\u001b[39;00m,\n\u001b[0;32m    331\u001b[0m         stacklevel\u001b[38;5;241m=\u001b[39mfind_stack_level(),\n\u001b[0;32m    332\u001b[0m     )\n\u001b[1;32m--> 333\u001b[0m \u001b[38;5;28;01mreturn\u001b[39;00m func(\u001b[38;5;241m*\u001b[39margs, \u001b[38;5;241m*\u001b[39m\u001b[38;5;241m*\u001b[39mkwargs)\n",
      "File \u001b[1;32m~\\AppData\\Local\\Packages\\PythonSoftwareFoundation.Python.3.10_qbz5n2kfra8p0\\LocalCache\\local-packages\\Python310\\site-packages\\pandas\\core\\generic.py:3087\u001b[0m, in \u001b[0;36mNDFrame.to_sql\u001b[1;34m(self, name, con, schema, if_exists, index, index_label, chunksize, dtype, method)\u001b[0m\n\u001b[0;32m   2889\u001b[0m \u001b[38;5;124;03m\"\"\"\u001b[39;00m\n\u001b[0;32m   2890\u001b[0m \u001b[38;5;124;03mWrite records stored in a DataFrame to a SQL database.\u001b[39;00m\n\u001b[0;32m   2891\u001b[0m \n\u001b[1;32m   (...)\u001b[0m\n\u001b[0;32m   3083\u001b[0m \u001b[38;5;124;03m[(1,), (None,), (2,)]\u001b[39;00m\n\u001b[0;32m   3084\u001b[0m \u001b[38;5;124;03m\"\"\"\u001b[39;00m  \u001b[38;5;66;03m# noqa: E501\u001b[39;00m\n\u001b[0;32m   3085\u001b[0m \u001b[38;5;28;01mfrom\u001b[39;00m \u001b[38;5;21;01mpandas\u001b[39;00m\u001b[38;5;21;01m.\u001b[39;00m\u001b[38;5;21;01mio\u001b[39;00m \u001b[38;5;28;01mimport\u001b[39;00m sql\n\u001b[1;32m-> 3087\u001b[0m \u001b[38;5;28;01mreturn\u001b[39;00m \u001b[43msql\u001b[49m\u001b[38;5;241;43m.\u001b[39;49m\u001b[43mto_sql\u001b[49m\u001b[43m(\u001b[49m\n\u001b[0;32m   3088\u001b[0m \u001b[43m    \u001b[49m\u001b[38;5;28;43mself\u001b[39;49m\u001b[43m,\u001b[49m\n\u001b[0;32m   3089\u001b[0m \u001b[43m    \u001b[49m\u001b[43mname\u001b[49m\u001b[43m,\u001b[49m\n\u001b[0;32m   3090\u001b[0m \u001b[43m    \u001b[49m\u001b[43mcon\u001b[49m\u001b[43m,\u001b[49m\n\u001b[0;32m   3091\u001b[0m \u001b[43m    \u001b[49m\u001b[43mschema\u001b[49m\u001b[38;5;241;43m=\u001b[39;49m\u001b[43mschema\u001b[49m\u001b[43m,\u001b[49m\n\u001b[0;32m   3092\u001b[0m \u001b[43m    \u001b[49m\u001b[43mif_exists\u001b[49m\u001b[38;5;241;43m=\u001b[39;49m\u001b[43mif_exists\u001b[49m\u001b[43m,\u001b[49m\n\u001b[0;32m   3093\u001b[0m \u001b[43m    \u001b[49m\u001b[43mindex\u001b[49m\u001b[38;5;241;43m=\u001b[39;49m\u001b[43mindex\u001b[49m\u001b[43m,\u001b[49m\n\u001b[0;32m   3094\u001b[0m \u001b[43m    \u001b[49m\u001b[43mindex_label\u001b[49m\u001b[38;5;241;43m=\u001b[39;49m\u001b[43mindex_label\u001b[49m\u001b[43m,\u001b[49m\n\u001b[0;32m   3095\u001b[0m \u001b[43m    \u001b[49m\u001b[43mchunksize\u001b[49m\u001b[38;5;241;43m=\u001b[39;49m\u001b[43mchunksize\u001b[49m\u001b[43m,\u001b[49m\n\u001b[0;32m   3096\u001b[0m \u001b[43m    \u001b[49m\u001b[43mdtype\u001b[49m\u001b[38;5;241;43m=\u001b[39;49m\u001b[43mdtype\u001b[49m\u001b[43m,\u001b[49m\n\u001b[0;32m   3097\u001b[0m \u001b[43m    \u001b[49m\u001b[43mmethod\u001b[49m\u001b[38;5;241;43m=\u001b[39;49m\u001b[43mmethod\u001b[49m\u001b[43m,\u001b[49m\n\u001b[0;32m   3098\u001b[0m \u001b[43m\u001b[49m\u001b[43m)\u001b[49m\n",
      "File \u001b[1;32m~\\AppData\\Local\\Packages\\PythonSoftwareFoundation.Python.3.10_qbz5n2kfra8p0\\LocalCache\\local-packages\\Python310\\site-packages\\pandas\\io\\sql.py:842\u001b[0m, in \u001b[0;36mto_sql\u001b[1;34m(frame, name, con, schema, if_exists, index, index_label, chunksize, dtype, method, engine, **engine_kwargs)\u001b[0m\n\u001b[0;32m    837\u001b[0m     \u001b[38;5;28;01mraise\u001b[39;00m \u001b[38;5;167;01mNotImplementedError\u001b[39;00m(\n\u001b[0;32m    838\u001b[0m         \u001b[38;5;124m\"\u001b[39m\u001b[38;5;124m'\u001b[39m\u001b[38;5;124mframe\u001b[39m\u001b[38;5;124m'\u001b[39m\u001b[38;5;124m argument should be either a Series or a DataFrame\u001b[39m\u001b[38;5;124m\"\u001b[39m\n\u001b[0;32m    839\u001b[0m     )\n\u001b[0;32m    841\u001b[0m \u001b[38;5;28;01mwith\u001b[39;00m pandasSQL_builder(con, schema\u001b[38;5;241m=\u001b[39mschema, need_transaction\u001b[38;5;241m=\u001b[39m\u001b[38;5;28;01mTrue\u001b[39;00m) \u001b[38;5;28;01mas\u001b[39;00m pandas_sql:\n\u001b[1;32m--> 842\u001b[0m     \u001b[38;5;28;01mreturn\u001b[39;00m pandas_sql\u001b[38;5;241m.\u001b[39mto_sql(\n\u001b[0;32m    843\u001b[0m         frame,\n\u001b[0;32m    844\u001b[0m         name,\n\u001b[0;32m    845\u001b[0m         if_exists\u001b[38;5;241m=\u001b[39mif_exists,\n\u001b[0;32m    846\u001b[0m         index\u001b[38;5;241m=\u001b[39mindex,\n\u001b[0;32m    847\u001b[0m         index_label\u001b[38;5;241m=\u001b[39mindex_label,\n\u001b[0;32m    848\u001b[0m         schema\u001b[38;5;241m=\u001b[39mschema,\n\u001b[0;32m    849\u001b[0m         chunksize\u001b[38;5;241m=\u001b[39mchunksize,\n\u001b[0;32m    850\u001b[0m         dtype\u001b[38;5;241m=\u001b[39mdtype,\n\u001b[0;32m    851\u001b[0m         method\u001b[38;5;241m=\u001b[39mmethod,\n\u001b[0;32m    852\u001b[0m         engine\u001b[38;5;241m=\u001b[39mengine,\n\u001b[0;32m    853\u001b[0m         \u001b[38;5;241m*\u001b[39m\u001b[38;5;241m*\u001b[39mengine_kwargs,\n\u001b[0;32m    854\u001b[0m     )\n",
      "File \u001b[1;32m~\\AppData\\Local\\Packages\\PythonSoftwareFoundation.Python.3.10_qbz5n2kfra8p0\\LocalCache\\local-packages\\Python310\\site-packages\\pandas\\io\\sql.py:2008\u001b[0m, in \u001b[0;36mSQLDatabase.to_sql\u001b[1;34m(self, frame, name, if_exists, index, index_label, schema, chunksize, dtype, method, engine, **engine_kwargs)\u001b[0m\n\u001b[0;32m   1958\u001b[0m \u001b[38;5;124;03m\"\"\"\u001b[39;00m\n\u001b[0;32m   1959\u001b[0m \u001b[38;5;124;03mWrite records stored in a DataFrame to a SQL database.\u001b[39;00m\n\u001b[0;32m   1960\u001b[0m \n\u001b[1;32m   (...)\u001b[0m\n\u001b[0;32m   2004\u001b[0m \u001b[38;5;124;03m    Any additional kwargs are passed to the engine.\u001b[39;00m\n\u001b[0;32m   2005\u001b[0m \u001b[38;5;124;03m\"\"\"\u001b[39;00m\n\u001b[0;32m   2006\u001b[0m sql_engine \u001b[38;5;241m=\u001b[39m get_engine(engine)\n\u001b[1;32m-> 2008\u001b[0m table \u001b[38;5;241m=\u001b[39m \u001b[38;5;28;43mself\u001b[39;49m\u001b[38;5;241;43m.\u001b[39;49m\u001b[43mprep_table\u001b[49m\u001b[43m(\u001b[49m\n\u001b[0;32m   2009\u001b[0m \u001b[43m    \u001b[49m\u001b[43mframe\u001b[49m\u001b[38;5;241;43m=\u001b[39;49m\u001b[43mframe\u001b[49m\u001b[43m,\u001b[49m\n\u001b[0;32m   2010\u001b[0m \u001b[43m    \u001b[49m\u001b[43mname\u001b[49m\u001b[38;5;241;43m=\u001b[39;49m\u001b[43mname\u001b[49m\u001b[43m,\u001b[49m\n\u001b[0;32m   2011\u001b[0m \u001b[43m    \u001b[49m\u001b[43mif_exists\u001b[49m\u001b[38;5;241;43m=\u001b[39;49m\u001b[43mif_exists\u001b[49m\u001b[43m,\u001b[49m\n\u001b[0;32m   2012\u001b[0m \u001b[43m    \u001b[49m\u001b[43mindex\u001b[49m\u001b[38;5;241;43m=\u001b[39;49m\u001b[43mindex\u001b[49m\u001b[43m,\u001b[49m\n\u001b[0;32m   2013\u001b[0m \u001b[43m    \u001b[49m\u001b[43mindex_label\u001b[49m\u001b[38;5;241;43m=\u001b[39;49m\u001b[43mindex_label\u001b[49m\u001b[43m,\u001b[49m\n\u001b[0;32m   2014\u001b[0m \u001b[43m    \u001b[49m\u001b[43mschema\u001b[49m\u001b[38;5;241;43m=\u001b[39;49m\u001b[43mschema\u001b[49m\u001b[43m,\u001b[49m\n\u001b[0;32m   2015\u001b[0m \u001b[43m    \u001b[49m\u001b[43mdtype\u001b[49m\u001b[38;5;241;43m=\u001b[39;49m\u001b[43mdtype\u001b[49m\u001b[43m,\u001b[49m\n\u001b[0;32m   2016\u001b[0m \u001b[43m\u001b[49m\u001b[43m)\u001b[49m\n\u001b[0;32m   2018\u001b[0m total_inserted \u001b[38;5;241m=\u001b[39m sql_engine\u001b[38;5;241m.\u001b[39minsert_records(\n\u001b[0;32m   2019\u001b[0m     table\u001b[38;5;241m=\u001b[39mtable,\n\u001b[0;32m   2020\u001b[0m     con\u001b[38;5;241m=\u001b[39m\u001b[38;5;28mself\u001b[39m\u001b[38;5;241m.\u001b[39mcon,\n\u001b[1;32m   (...)\u001b[0m\n\u001b[0;32m   2027\u001b[0m     \u001b[38;5;241m*\u001b[39m\u001b[38;5;241m*\u001b[39mengine_kwargs,\n\u001b[0;32m   2028\u001b[0m )\n\u001b[0;32m   2030\u001b[0m \u001b[38;5;28mself\u001b[39m\u001b[38;5;241m.\u001b[39mcheck_case_sensitive(name\u001b[38;5;241m=\u001b[39mname, schema\u001b[38;5;241m=\u001b[39mschema)\n",
      "File \u001b[1;32m~\\AppData\\Local\\Packages\\PythonSoftwareFoundation.Python.3.10_qbz5n2kfra8p0\\LocalCache\\local-packages\\Python310\\site-packages\\pandas\\io\\sql.py:1912\u001b[0m, in \u001b[0;36mSQLDatabase.prep_table\u001b[1;34m(self, frame, name, if_exists, index, index_label, schema, dtype)\u001b[0m\n\u001b[0;32m   1900\u001b[0m             \u001b[38;5;28;01mraise\u001b[39;00m \u001b[38;5;167;01mValueError\u001b[39;00m(\u001b[38;5;124mf\u001b[39m\u001b[38;5;124m\"\u001b[39m\u001b[38;5;124mThe type of \u001b[39m\u001b[38;5;132;01m{\u001b[39;00mcol\u001b[38;5;132;01m}\u001b[39;00m\u001b[38;5;124m is not a SQLAlchemy type\u001b[39m\u001b[38;5;124m\"\u001b[39m)\n\u001b[0;32m   1902\u001b[0m table \u001b[38;5;241m=\u001b[39m SQLTable(\n\u001b[0;32m   1903\u001b[0m     name,\n\u001b[0;32m   1904\u001b[0m     \u001b[38;5;28mself\u001b[39m,\n\u001b[1;32m   (...)\u001b[0m\n\u001b[0;32m   1910\u001b[0m     dtype\u001b[38;5;241m=\u001b[39mdtype,\n\u001b[0;32m   1911\u001b[0m )\n\u001b[1;32m-> 1912\u001b[0m \u001b[43mtable\u001b[49m\u001b[38;5;241;43m.\u001b[39;49m\u001b[43mcreate\u001b[49m\u001b[43m(\u001b[49m\u001b[43m)\u001b[49m\n\u001b[0;32m   1913\u001b[0m \u001b[38;5;28;01mreturn\u001b[39;00m table\n",
      "File \u001b[1;32m~\\AppData\\Local\\Packages\\PythonSoftwareFoundation.Python.3.10_qbz5n2kfra8p0\\LocalCache\\local-packages\\Python310\\site-packages\\pandas\\io\\sql.py:986\u001b[0m, in \u001b[0;36mSQLTable.create\u001b[1;34m(self)\u001b[0m\n\u001b[0;32m    984\u001b[0m \u001b[38;5;28;01mif\u001b[39;00m \u001b[38;5;28mself\u001b[39m\u001b[38;5;241m.\u001b[39mexists():\n\u001b[0;32m    985\u001b[0m     \u001b[38;5;28;01mif\u001b[39;00m \u001b[38;5;28mself\u001b[39m\u001b[38;5;241m.\u001b[39mif_exists \u001b[38;5;241m==\u001b[39m \u001b[38;5;124m\"\u001b[39m\u001b[38;5;124mfail\u001b[39m\u001b[38;5;124m\"\u001b[39m:\n\u001b[1;32m--> 986\u001b[0m         \u001b[38;5;28;01mraise\u001b[39;00m \u001b[38;5;167;01mValueError\u001b[39;00m(\u001b[38;5;124mf\u001b[39m\u001b[38;5;124m\"\u001b[39m\u001b[38;5;124mTable \u001b[39m\u001b[38;5;124m'\u001b[39m\u001b[38;5;132;01m{\u001b[39;00m\u001b[38;5;28mself\u001b[39m\u001b[38;5;241m.\u001b[39mname\u001b[38;5;132;01m}\u001b[39;00m\u001b[38;5;124m'\u001b[39m\u001b[38;5;124m already exists.\u001b[39m\u001b[38;5;124m\"\u001b[39m)\n\u001b[0;32m    987\u001b[0m     \u001b[38;5;28;01mif\u001b[39;00m \u001b[38;5;28mself\u001b[39m\u001b[38;5;241m.\u001b[39mif_exists \u001b[38;5;241m==\u001b[39m \u001b[38;5;124m\"\u001b[39m\u001b[38;5;124mreplace\u001b[39m\u001b[38;5;124m\"\u001b[39m:\n\u001b[0;32m    988\u001b[0m         \u001b[38;5;28mself\u001b[39m\u001b[38;5;241m.\u001b[39mpd_sql\u001b[38;5;241m.\u001b[39mdrop_table(\u001b[38;5;28mself\u001b[39m\u001b[38;5;241m.\u001b[39mname, \u001b[38;5;28mself\u001b[39m\u001b[38;5;241m.\u001b[39mschema)\n",
      "\u001b[1;31mValueError\u001b[0m: Table 'zavegepant' already exists."
     ]
    }
   ],
   "source": [
    "from langchain_community.utilities import SQLDatabase\n",
    "from sqlalchemy import create_engine\n",
    "\n",
    "engine = create_engine(\"sqlite:///zavegepant.db\")\n",
    "df.to_sql(\"zavegepant\", engine, index=False)"
   ]
  },
  {
   "cell_type": "code",
   "execution_count": 41,
   "metadata": {},
   "outputs": [
    {
     "name": "stdout",
     "output_type": "stream",
     "text": [
      "sqlite\n",
      "['zavegepant']\n"
     ]
    },
    {
     "data": {
      "text/plain": [
       "\"[(802666117734155, 56, 'Zavegepant', 'CGRP Nasal', 'CGRP Nasal'), (802666592744741, 56, 'Zavegepant', 'CGRP Nasal', 'CGRP Nasal'), (802666593251584, 56, 'Zavegepant', 'CGRP Nasal', 'CGRP Nasal'), (802666100631977, 57, 'Zavegepant', 'CGRP Nasal', 'CGRP Nasal'), (802666101995236, 57, 'Zavegepant', 'CGRP Nasal', 'CGRP Nasal'), (802666105051130, 57, 'Zavegepant', 'CGRP Nasal', 'CGRP Nasal'), (802666106877516, 57, 'Zavegepant', 'CGRP Nasal', 'CGRP Nasal'), (802666108447025, 57, 'Zavegepant', 'CGRP Nasal', 'CGRP Nasal'), (802666109534721, 57, 'Zavegepant', 'CGRP Nasal', 'CGRP Nasal'), (802666115267316, 57, 'Zavegepant', 'CGRP Nasal', 'CGRP Nasal'), (802666117734155, 57, 'Zavegepant', 'CGRP Nasal', 'CGRP Nasal'), (802666119071535, 57, 'Zavegepant', 'CGRP Nasal', 'CGRP Nasal'), (802666125803198, 57, 'Zavegepant', 'CGRP Nasal', 'CGRP Nasal'), (802666126555079, 57, 'Zavegepant', 'CGRP Nasal', 'CGRP Nasal'), (802666127235660, 57, 'Zavegepant', 'CGRP Nasal', 'CGRP Nasal'), (802666127758214, 57, 'Zavegepant', 'CGRP Nasal', 'CGRP Nasal'), (802666128917878, 57, 'Zavegepant', 'CGRP Nasal', 'CGRP Nasal'), (802666166945416, 57, 'Zavegepant', 'CGRP Nasal', 'CGRP Nasal'), (802666169517005, 57, 'Zavegepant', 'CGRP Nasal', 'CGRP Nasal'), (802666528213381, 57, 'Zavegepant', 'CGRP Nasal', 'CGRP Nasal'), (802666528753163, 57, 'Zavegepant', 'CGRP Nasal', 'CGRP Nasal'), (802666550340210, 57, 'Zavegepant', 'CGRP Nasal', 'CGRP Nasal'), (802666553132215, 57, 'Zavegepant', 'CGRP Nasal', 'CGRP Nasal'), (802666553549878, 57, 'Zavegepant', 'CGRP Nasal', 'CGRP Nasal'), (802666556315688, 57, 'Zavegepant', 'CGRP Nasal', 'CGRP Nasal'), (802666562319728, 57, 'Zavegepant', 'CGRP Nasal', 'CGRP Nasal'), (802666582723428, 57, 'Zavegepant', 'CGRP Nasal', 'CGRP Nasal'), (802666584246487, 57, 'Zavegepant', 'CGRP Nasal', 'CGRP Nasal'), (802666592744741, 57, 'Zavegepant', 'CGRP Nasal', 'CGRP Nasal'), (802666593251584, 57, 'Zavegepant', 'CGRP Nasal', 'CGRP Nasal'), (802666594165246, 57, 'Zavegepant', 'CGRP Nasal', 'CGRP Nasal'), (802666597540152, 57, 'Zavegepant', 'CGRP Nasal', 'CGRP Nasal'), (802666597928938, 57, 'Zavegepant', 'CGRP Nasal', 'CGRP Nasal'), (802666909579217, 57, 'Zavegepant', 'CGRP Nasal', 'CGRP Nasal'), (802666930170140, 57, 'Zavegepant', 'CGRP Nasal', 'CGRP Nasal'), (802666938121340, 57, 'Zavegepant', 'CGRP Nasal', 'CGRP Nasal'), (802666949532487, 57, 'Zavegepant', 'CGRP Nasal', 'CGRP Nasal'), (802666976734349, 57, 'Zavegepant', 'CGRP Nasal', 'CGRP Nasal'), (802666978718572, 57, 'Zavegepant', 'CGRP Nasal', 'CGRP Nasal'), (802666981083636, 57, 'Zavegepant', 'CGRP Nasal', 'CGRP Nasal'), (802666100240045, 58, 'Zavegepant', 'CGRP Nasal', 'CGRP Nasal'), (802666100631977, 58, 'Zavegepant', 'CGRP Nasal', 'CGRP Nasal'), (802666101995236, 58, 'Zavegepant', 'CGRP Nasal', 'CGRP Nasal'), (802666105051130, 58, 'Zavegepant', 'CGRP Nasal', 'CGRP Nasal'), (802666106050854, 58, 'Zavegepant', 'CGRP Nasal', 'CGRP Nasal'), (802666106877516, 58, 'Zavegepant', 'CGRP Nasal', 'CGRP Nasal'), (802666108330387, 58, 'Zavegepant', 'CGRP Nasal', 'CGRP Nasal'), (802666108447025, 58, 'Zavegepant', 'CGRP Nasal', 'CGRP Nasal'), (802666108953143, 58, 'Zavegepant', 'CGRP Nasal', 'CGRP Nasal'), (802666109534721, 58, 'Zavegepant', 'CGRP Nasal', 'CGRP Nasal'), (802666115267316, 58, 'Zavegepant', 'CGRP Nasal', 'CGRP Nasal'), (802666117734155, 58, 'Zavegepant', 'CGRP Nasal', 'CGRP Nasal'), (802666119071535, 58, 'Zavegepant', 'CGRP Nasal', 'CGRP Nasal'), (802666119597373, 58, 'Zavegepant', 'CGRP Nasal', 'CGRP Nasal'), (802666122151579, 58, 'Zavegepant', 'CGRP Nasal', 'CGRP Nasal'), (802666122677551, 58, 'Zavegepant', 'CGRP Nasal', 'CGRP Nasal'), (802666123696165, 58, 'Zavegepant', 'CGRP Nasal', 'CGRP Nasal'), (802666125803198, 58, 'Zavegepant', 'CGRP Nasal', 'CGRP Nasal'), (802666126555079, 58, 'Zavegepant', 'CGRP Nasal', 'CGRP Nasal'), (802666127235660, 58, 'Zavegepant', 'CGRP Nasal', 'CGRP Nasal'), (802666127758214, 58, 'Zavegepant', 'CGRP Nasal', 'CGRP Nasal'), (802666128917878, 58, 'Zavegepant', 'CGRP Nasal', 'CGRP Nasal'), (802666133245512, 58, 'Zavegepant', 'CGRP Nasal', 'CGRP Nasal'), (802666133312961, 58, 'Zavegepant', 'CGRP Nasal', 'CGRP Nasal'), (802666133540660, 58, 'Zavegepant', 'CGRP Nasal', 'CGRP Nasal'), (802666136309829, 58, 'Zavegepant', 'CGRP Nasal', 'CGRP Nasal'), (802666137837041, 58, 'Zavegepant', 'CGRP Nasal', 'CGRP Nasal'), (802666137981959, 58, 'Zavegepant', 'CGRP Nasal', 'CGRP Nasal'), (802666156930595, 58, 'Zavegepant', 'CGRP Nasal', 'CGRP Nasal'), (802666159293520, 58, 'Zavegepant', 'CGRP Nasal', 'CGRP Nasal'), (802666165487185, 58, 'Zavegepant', 'CGRP Nasal', 'CGRP Nasal'), (802666166945416, 58, 'Zavegepant', 'CGRP Nasal', 'CGRP Nasal'), (802666169517005, 58, 'Zavegepant', 'CGRP Nasal', 'CGRP Nasal'), (802666172730918, 58, 'Zavegepant', 'CGRP Nasal', 'CGRP Nasal'), (802666173714445, 58, 'Zavegepant', 'CGRP Nasal', 'CGRP Nasal'), (802666178226049, 58, 'Zavegepant', 'CGRP Nasal', 'CGRP Nasal'), (802666195441649, 58, 'Zavegepant', 'CGRP Nasal', 'CGRP Nasal'), (802666197529199, 58, 'Zavegepant', 'CGRP Nasal', 'CGRP Nasal'), (802666507887347, 58, 'Zavegepant', 'CGRP Nasal', 'CGRP Nasal'), (802666510043591, 58, 'Zavegepant', 'CGRP Nasal', 'CGRP Nasal'), (802666517967454, 58, 'Zavegepant', 'CGRP Nasal', 'CGRP Nasal'), (802666522657633, 58, 'Zavegepant', 'CGRP Nasal', 'CGRP Nasal'), (802666523700491, 58, 'Zavegepant', 'CGRP Nasal', 'CGRP Nasal'), (802666528213381, 58, 'Zavegepant', 'CGRP Nasal', 'CGRP Nasal'), (802666528753163, 58, 'Zavegepant', 'CGRP Nasal', 'CGRP Nasal'), (802666529015089, 58, 'Zavegepant', 'CGRP Nasal', 'CGRP Nasal'), (802666535032491, 58, 'Zavegepant', 'CGRP Nasal', 'CGRP Nasal'), (802666548750944, 58, 'Zavegepant', 'CGRP Nasal', 'CGRP Nasal'), (802666549623981, 58, 'Zavegepant', 'CGRP Nasal', 'CGRP Nasal'), (802666550340210, 58, 'Zavegepant', 'CGRP Nasal', 'CGRP Nasal'), (802666552216347, 58, 'Zavegepant', 'CGRP Nasal', 'CGRP Nasal'), (802666553132215, 58, 'Zavegepant', 'CGRP Nasal', 'CGRP Nasal'), (802666553549878, 58, 'Zavegepant', 'CGRP Nasal', 'CGRP Nasal'), (802666562319728, 58, 'Zavegepant', 'CGRP Nasal', 'CGRP Nasal'), (802666567644695, 58, 'Zavegepant', 'CGRP Nasal', 'CGRP Nasal'), (802666569332566, 58, 'Zavegepant', 'CGRP Nasal', 'CGRP Nasal'), (802666570050044, 58, 'Zavegepant', 'CGRP Nasal', 'CGRP Nasal'), (802666572201747, 58, 'Zavegepant', 'CGRP Nasal', 'CGRP Nasal'), (802666579913430, 58, 'Zavegepant', 'CGRP Nasal', 'CGRP Nasal'), (802666582723428, 58, 'Zavegepant', 'CGRP Nasal', 'CGRP Nasal'), (802666584246487, 58, 'Zavegepant', 'CGRP Nasal', 'CGRP Nasal'), (802666587024728, 58, 'Zavegepant', 'CGRP Nasal', 'CGRP Nasal'), (802666591982942, 58, 'Zavegepant', 'CGRP Nasal', 'CGRP Nasal'), (802666594165246, 58, 'Zavegepant', 'CGRP Nasal', 'CGRP Nasal'), (802666597928938, 58, 'Zavegepant', 'CGRP Nasal', 'CGRP Nasal'), (802666599380228, 58, 'Zavegepant', 'CGRP Nasal', 'CGRP Nasal'), (802666905266248, 58, 'Zavegepant', 'CGRP Nasal', 'CGRP Nasal'), (802666909579217, 58, 'Zavegepant', 'CGRP Nasal', 'CGRP Nasal'), (802666909742179, 58, 'Zavegepant', 'CGRP Nasal', 'CGRP Nasal'), (802666911130290, 58, 'Zavegepant', 'CGRP Nasal', 'CGRP Nasal'), (802666911607032, 58, 'Zavegepant', 'CGRP Nasal', 'CGRP Nasal'), (802666924697220, 58, 'Zavegepant', 'CGRP Nasal', 'CGRP Nasal'), (802666930170140, 58, 'Zavegepant', 'CGRP Nasal', 'CGRP Nasal'), (802666935182730, 58, 'Zavegepant', 'CGRP Nasal', 'CGRP Nasal'), (802666938121340, 58, 'Zavegepant', 'CGRP Nasal', 'CGRP Nasal'), (802666945678010, 58, 'Zavegepant', 'CGRP Nasal', 'CGRP Nasal'), (802666949532487, 58, 'Zavegepant', 'CGRP Nasal', 'CGRP Nasal'), (802666960909987, 58, 'Zavegepant', 'CGRP Nasal', 'CGRP Nasal'), (802666976734349, 58, 'Zavegepant', 'CGRP Nasal', 'CGRP Nasal'), (802666978718572, 58, 'Zavegepant', 'CGRP Nasal', 'CGRP Nasal'), (802666980766198, 58, 'Zavegepant', 'CGRP Nasal', 'CGRP Nasal'), (802666981083636, 58, 'Zavegepant', 'CGRP Nasal', 'CGRP Nasal'), (802666983515700, 58, 'Zavegepant', 'CGRP Nasal', 'CGRP Nasal'), (802666984969484, 58, 'Zavegepant', 'CGRP Nasal', 'CGRP Nasal'), (802666990670487, 58, 'Zavegepant', 'CGRP Nasal', 'CGRP Nasal'), (802666998996863, 58, 'Zavegepant', 'CGRP Nasal', 'CGRP Nasal'), (802666100240045, 59, 'Zavegepant', 'CGRP Nasal', 'CGRP Nasal'), (802666100631977, 59, 'Zavegepant', 'CGRP Nasal', 'CGRP Nasal'), (802666101406173, 59, 'Zavegepant', 'CGRP Nasal', 'CGRP Nasal'), (802666101825757, 59, 'Zavegepant', 'CGRP Nasal', 'CGRP Nasal'), (802666101995236, 59, 'Zavegepant', 'CGRP Nasal', 'CGRP Nasal'), (802666102410891, 59, 'Zavegepant', 'CGRP Nasal', 'CGRP Nasal'), (802666105051130, 59, 'Zavegepant', 'CGRP Nasal', 'CGRP Nasal'), (802666106050854, 59, 'Zavegepant', 'CGRP Nasal', 'CGRP Nasal'), (802666108330387, 59, 'Zavegepant', 'CGRP Nasal', 'CGRP Nasal'), (802666108951425, 59, 'Zavegepant', 'CGRP Nasal', 'CGRP Nasal'), (802666108953143, 59, 'Zavegepant', 'CGRP Nasal', 'CGRP Nasal'), (802666109534721, 59, 'Zavegepant', 'CGRP Nasal', 'CGRP Nasal'), (802666111995759, 59, 'Zavegepant', 'CGRP Nasal', 'CGRP Nasal'), (802666117734155, 59, 'Zavegepant', 'CGRP Nasal', 'CGRP Nasal'), (802666119071535, 59, 'Zavegepant', 'CGRP Nasal', 'CGRP Nasal'), (802666119597373, 59, 'Zavegepant', 'CGRP Nasal', 'CGRP Nasal'), (802666121040945, 59, 'Zavegepant', 'CGRP Nasal', 'CGRP Nasal'), (802666122151579, 59, 'Zavegepant', 'CGRP Nasal', 'CGRP Nasal'), (802666122677551, 59, 'Zavegepant', 'CGRP Nasal', 'CGRP Nasal'), (802666123627028, 59, 'Zavegepant', 'CGRP Nasal', 'CGRP Nasal'), (802666123696165, 59, 'Zavegepant', 'CGRP Nasal', 'CGRP Nasal'), (802666126555079, 59, 'Zavegepant', 'CGRP Nasal', 'CGRP Nasal'), (802666127634895, 59, 'Zavegepant', 'CGRP Nasal', 'CGRP Nasal'), (802666127758214, 59, 'Zavegepant', 'CGRP Nasal', 'CGRP Nasal'), (802666128917878, 59, 'Zavegepant', 'CGRP Nasal', 'CGRP Nasal'), (802666133245512, 59, 'Zavegepant', 'CGRP Nasal', 'CGRP Nasal'), (802666133312961, 59, 'Zavegepant', 'CGRP Nasal', 'CGRP Nasal'), (802666133540660, 59, 'Zavegepant', 'CGRP Nasal', 'CGRP Nasal'), (802666133594036, 59, 'Zavegepant', 'CGRP Nasal', 'CGRP Nasal'), (802666134432077, 59, 'Zavegepant', 'CGRP Nasal', 'CGRP Nasal'), (802666136309829, 59, 'Zavegepant', 'CGRP Nasal', 'CGRP Nasal'), (802666136631980, 59, 'Zavegepant', 'CGRP Nasal', 'CGRP Nasal'), (802666137218126, 59, 'Zavegepant', 'CGRP Nasal', 'CGRP Nasal'), (802666137837041, 59, 'Zavegepant', 'CGRP Nasal', 'CGRP Nasal'), (802666137981959, 59, 'Zavegepant', 'CGRP Nasal', 'CGRP Nasal'), (802666151472575, 59, 'Zavegepant', 'CGRP Nasal', 'CGRP Nasal'), (802666156930595, 59, 'Zavegepant', 'CGRP Nasal', 'CGRP Nasal'), (802666159293520, 59, 'Zavegepant', 'CGRP Nasal', 'CGRP Nasal'), (802666163142618, 59, 'Zavegepant', 'CGRP Nasal', 'CGRP Nasal'), (802666166556852, 59, 'Zavegepant', 'CGRP Nasal', 'CGRP Nasal'), (802666166945416, 59, 'Zavegepant', 'CGRP Nasal', 'CGRP Nasal'), (802666167043224, 59, 'Zavegepant', 'CGRP Nasal', 'CGRP Nasal'), (802666169593418, 59, 'Zavegepant', 'CGRP Nasal', 'CGRP Nasal'), (802666172730918, 59, 'Zavegepant', 'CGRP Nasal', 'CGRP Nasal'), (802666173588974, 59, 'Zavegepant', 'CGRP Nasal', 'CGRP Nasal'), (802666173714445, 59, 'Zavegepant', 'CGRP Nasal', 'CGRP Nasal'), (802666178194627, 59, 'Zavegepant', 'CGRP Nasal', 'CGRP Nasal'), (802666178226049, 59, 'Zavegepant', 'CGRP Nasal', 'CGRP Nasal'), (802666192165486, 59, 'Zavegepant', 'CGRP Nasal', 'CGRP Nasal'), (802666195441649, 59, 'Zavegepant', 'CGRP Nasal', 'CGRP Nasal'), (802666197529199, 59, 'Zavegepant', 'CGRP Nasal', 'CGRP Nasal'), (802666507887347, 59, 'Zavegepant', 'CGRP Nasal', 'CGRP Nasal'), (802666510043591, 59, 'Zavegepant', 'CGRP Nasal', 'CGRP Nasal'), (802666511549012, 59, 'Zavegepant', 'CGRP Nasal', 'CGRP Nasal'), (802666511848679, 59, 'Zavegepant', 'CGRP Nasal', 'CGRP Nasal'), (802666517967454, 59, 'Zavegepant', 'CGRP Nasal', 'CGRP Nasal'), (802666518895896, 59, 'Zavegepant', 'CGRP Nasal', 'CGRP Nasal'), (802666522657633, 59, 'Zavegepant', 'CGRP Nasal', 'CGRP Nasal'), (802666527033509, 59, 'Zavegepant', 'CGRP Nasal', 'CGRP Nasal'), (802666529015089, 59, 'Zavegepant', 'CGRP Nasal', 'CGRP Nasal'), (802666535032491, 59, 'Zavegepant', 'CGRP Nasal', 'CGRP Nasal'), (802666538369016, 59, 'Zavegepant', 'CGRP Nasal', 'CGRP Nasal'), (802666548750944, 59, 'Zavegepant', 'CGRP Nasal', 'CGRP Nasal'), (802666549623981, 59, 'Zavegepant', 'CGRP Nasal', 'CGRP Nasal'), (802666552216347, 59, 'Zavegepant', 'CGRP Nasal', 'CGRP Nasal'), (802666553132215, 59, 'Zavegepant', 'CGRP Nasal', 'CGRP Nasal'), (802666554012406, 59, 'Zavegepant', 'CGRP Nasal', 'CGRP Nasal'), (802666554818473, 59, 'Zavegepant', 'CGRP Nasal', 'CGRP Nasal'), (802666557725337, 59, 'Zavegepant', 'CGRP Nasal', 'CGRP Nasal'), (802666558853873, 59, 'Zavegepant', 'CGRP Nasal', 'CGRP Nasal'), (802666564151544, 59, 'Zavegepant', 'CGRP Nasal', 'CGRP Nasal'), (802666565810561, 59, 'Zavegepant', 'CGRP Nasal', 'CGRP Nasal'), (802666567644695, 59, 'Zavegepant', 'CGRP Nasal', 'CGRP Nasal'), (802666569332566, 59, 'Zavegepant', 'CGRP Nasal', 'CGRP Nasal'), (802666569359519, 59, 'Zavegepant', 'CGRP Nasal', 'CGRP Nasal'), (802666570050044, 59, 'Zavegepant', 'CGRP Nasal', 'CGRP Nasal'), (802666572201747, 59, 'Zavegepant', 'CGRP Nasal', 'CGRP Nasal'), (802666576695693, 59, 'Zavegepant', 'CGRP Nasal', 'CGRP Nasal'), (802666579913430, 59, 'Zavegepant', 'CGRP Nasal', 'CGRP Nasal'), (802666582723428, 59, 'Zavegepant', 'CGRP Nasal', 'CGRP Nasal'), (802666587024728, 59, 'Zavegepant', 'CGRP Nasal', 'CGRP Nasal'), (802666591981546, 59, 'Zavegepant', 'CGRP Nasal', 'CGRP Nasal'), (802666591982942, 59, 'Zavegepant', 'CGRP Nasal', 'CGRP Nasal'), (802666594165246, 59, 'Zavegepant', 'CGRP Nasal', 'CGRP Nasal'), (802666597540152, 59, 'Zavegepant', 'CGRP Nasal', 'CGRP Nasal'), (802666599380228, 59, 'Zavegepant', 'CGRP Nasal', 'CGRP Nasal'), (802666904654136, 59, 'Zavegepant', 'CGRP Nasal', 'CGRP Nasal'), (802666905266248, 59, 'Zavegepant', 'CGRP Nasal', 'CGRP Nasal'), (802666909742179, 59, 'Zavegepant', 'CGRP Nasal', 'CGRP Nasal'), (802666911130290, 59, 'Zavegepant', 'CGRP Nasal', 'CGRP Nasal'), (802666911607032, 59, 'Zavegepant', 'CGRP Nasal', 'CGRP Nasal'), (802666917503685, 59, 'Zavegepant', 'CGRP Nasal', 'CGRP Nasal'), (802666924697220, 59, 'Zavegepant', 'CGRP Nasal', 'CGRP Nasal'), (802666932235066, 59, 'Zavegepant', 'CGRP Nasal', 'CGRP Nasal'), (802666935182730, 59, 'Zavegepant', 'CGRP Nasal', 'CGRP Nasal'), (802666938593293, 59, 'Zavegepant', 'CGRP Nasal', 'CGRP Nasal'), (802666940661126, 59, 'Zavegepant', 'CGRP Nasal', 'CGRP Nasal'), (802666941105489, 59, 'Zavegepant', 'CGRP Nasal', 'CGRP Nasal'), (802666945678010, 59, 'Zavegepant', 'CGRP Nasal', 'CGRP Nasal'), (802666949532487, 59, 'Zavegepant', 'CGRP Nasal', 'CGRP Nasal'), (802666951522243, 59, 'Zavegepant', 'CGRP Nasal', 'CGRP Nasal'), (802666960909987, 59, 'Zavegepant', 'CGRP Nasal', 'CGRP Nasal'), (802666961119232, 59, 'Zavegepant', 'CGRP Nasal', 'CGRP Nasal'), (802666978718572, 59, 'Zavegepant', 'CGRP Nasal', 'CGRP Nasal'), (802666981083636, 59, 'Zavegepant', 'CGRP Nasal', 'CGRP Nasal'), (802666983515700, 59, 'Zavegepant', 'CGRP Nasal', 'CGRP Nasal'), (802666984921207, 59, 'Zavegepant', 'CGRP Nasal', 'CGRP Nasal'), (802666984969484, 59, 'Zavegepant', 'CGRP Nasal', 'CGRP Nasal'), (802666990670487, 59, 'Zavegepant', 'CGRP Nasal', 'CGRP Nasal'), (802666998996863, 59, 'Zavegepant', 'CGRP Nasal', 'CGRP Nasal'), (802666100240045, 60, 'Zavegepant', 'CGRP Nasal', 'CGRP Nasal'), (802666100631977, 60, 'Zavegepant', 'CGRP Nasal', 'CGRP Nasal'), (802666101406173, 60, 'Zavegepant', 'CGRP Nasal', 'CGRP Nasal'), (802666101489484, 60, 'Zavegepant', 'CGRP Nasal', 'CGRP Nasal'), (802666101825757, 60, 'Zavegepant', 'CGRP Nasal', 'CGRP Nasal'), (802666101995236, 60, 'Zavegepant', 'CGRP Nasal', 'CGRP Nasal'), (802666102410891, 60, 'Zavegepant', 'CGRP Nasal', 'CGRP Nasal'), (802666102563843, 60, 'Zavegepant', 'CGRP Nasal', 'CGRP Nasal'), (802666102708172, 60, 'Zavegepant', 'CGRP Nasal', 'CGRP Nasal'), (802666105051130, 60, 'Zavegepant', 'CGRP Nasal', 'CGRP Nasal'), (802666106873219, 60, 'Zavegepant', 'CGRP Nasal', 'CGRP Nasal'), (802666106877516, 60, 'Zavegepant', 'CGRP Nasal', 'CGRP Nasal'), (802666108009463, 60, 'Zavegepant', 'CGRP Nasal', 'CGRP Nasal'), (802666108330387, 60, 'Zavegepant', 'CGRP Nasal', 'CGRP Nasal'), (802666108951425, 60, 'Zavegepant', 'CGRP Nasal', 'CGRP Nasal'), (802666108953143, 60, 'Zavegepant', 'CGRP Nasal', 'CGRP Nasal'), (802666110289223, 60, 'Zavegepant', 'CGRP Nasal', 'CGRP Nasal'), (802666111995759, 60, 'Zavegepant', 'CGRP Nasal', 'CGRP Nasal'), (802666117029125, 60, 'Zavegepant', 'CGRP Nasal', 'CGRP Nasal'), (802666117734155, 60, 'Zavegepant', 'CGRP Nasal', 'CGRP Nasal'), (802666117913416, 60, 'Zavegepant', 'CGRP Nasal', 'CGRP Nasal'), (802666119071535, 60, 'Zavegepant', 'CGRP Nasal', 'CGRP Nasal'), (802666119597373, 60, 'Zavegepant', 'CGRP Nasal', 'CGRP Nasal'), (802666121040945, 60, 'Zavegepant', 'CGRP Nasal', 'CGRP Nasal'), (802666122174706, 60, 'Zavegepant', 'CGRP Nasal', 'CGRP Nasal'), (802666122179971, 60, 'Zavegepant', 'CGRP Nasal', 'CGRP Nasal'), (802666123602785, 60, 'Zavegepant', 'CGRP Nasal', 'CGRP Nasal'), (802666123696165, 60, 'Zavegepant', 'CGRP Nasal', 'CGRP Nasal'), (802666126555079, 60, 'Zavegepant', 'CGRP Nasal', 'CGRP Nasal'), (802666126907939, 60, 'Zavegepant', 'CGRP Nasal', 'CGRP Nasal'), (802666127634895, 60, 'Zavegepant', 'CGRP Nasal', 'CGRP Nasal'), (802666127758214, 60, 'Zavegepant', 'CGRP Nasal', 'CGRP Nasal'), (802666127773993, 60, 'Zavegepant', 'CGRP Nasal', 'CGRP Nasal'), (802666128917878, 60, 'Zavegepant', 'CGRP Nasal', 'CGRP Nasal'), (802666132099707, 60, 'Zavegepant', 'CGRP Nasal', 'CGRP Nasal'), (802666133240807, 60, 'Zavegepant', 'CGRP Nasal', 'CGRP Nasal'), (802666133312961, 60, 'Zavegepant', 'CGRP Nasal', 'CGRP Nasal'), (802666133594036, 60, 'Zavegepant', 'CGRP Nasal', 'CGRP Nasal'), (802666134432077, 60, 'Zavegepant', 'CGRP Nasal', 'CGRP Nasal'), (802666136309829, 60, 'Zavegepant', 'CGRP Nasal', 'CGRP Nasal'), (802666136426531, 60, 'Zavegepant', 'CGRP Nasal', 'CGRP Nasal'), (802666136631980, 60, 'Zavegepant', 'CGRP Nasal', 'CGRP Nasal'), (802666137218126, 60, 'Zavegepant', 'CGRP Nasal', 'CGRP Nasal'), (802666137837041, 60, 'Zavegepant', 'CGRP Nasal', 'CGRP Nasal'), (802666137981959, 60, 'Zavegepant', 'CGRP Nasal', 'CGRP Nasal'), (802666138739436, 60, 'Zavegepant', 'CGRP Nasal', 'CGRP Nasal'), (802666145013134, 60, 'Zavegepant', 'CGRP Nasal', 'CGRP Nasal'), (802666151472575, 60, 'Zavegepant', 'CGRP Nasal', 'CGRP Nasal'), (802666155226990, 60, 'Zavegepant', 'CGRP Nasal', 'CGRP Nasal'), (802666163142618, 60, 'Zavegepant', 'CGRP Nasal', 'CGRP Nasal'), (802666166556852, 60, 'Zavegepant', 'CGRP Nasal', 'CGRP Nasal'), (802666166945416, 60, 'Zavegepant', 'CGRP Nasal', 'CGRP Nasal'), (802666167043224, 60, 'Zavegepant', 'CGRP Nasal', 'CGRP Nasal'), (802666169175372, 60, 'Zavegepant', 'CGRP Nasal', 'CGRP Nasal'), (802666169593418, 60, 'Zavegepant', 'CGRP Nasal', 'CGRP Nasal'), (802666170379393, 60, 'Zavegepant', 'CGRP Nasal', 'CGRP Nasal'), (802666170502571, 60, 'Zavegepant', 'CGRP Nasal', 'CGRP Nasal'), (802666173588974, 60, 'Zavegepant', 'CGRP Nasal', 'CGRP Nasal'), (802666173714445, 60, 'Zavegepant', 'CGRP Nasal', 'CGRP Nasal'), (802666174271069, 60, 'Zavegepant', 'CGRP Nasal', 'CGRP Nasal'), (802666178112855, 60, 'Zavegepant', 'CGRP Nasal', 'CGRP Nasal'), (802666178194627, 60, 'Zavegepant', 'CGRP Nasal', 'CGRP Nasal'), (802666178226049, 60, 'Zavegepant', 'CGRP Nasal', 'CGRP Nasal'), (802666192165486, 60, 'Zavegepant', 'CGRP Nasal', 'CGRP Nasal'), (802666195441649, 60, 'Zavegepant', 'CGRP Nasal', 'CGRP Nasal'), (802666197529199, 60, 'Zavegepant', 'CGRP Nasal', 'CGRP Nasal'), (802666510043591, 60, 'Zavegepant', 'CGRP Nasal', 'CGRP Nasal'), (802666511549012, 60, 'Zavegepant', 'CGRP Nasal', 'CGRP Nasal'), (802666511848679, 60, 'Zavegepant', 'CGRP Nasal', 'CGRP Nasal'), (802666514936984, 60, 'Zavegepant', 'CGRP Nasal', 'CGRP Nasal'), (802666517450650, 60, 'Zavegepant', 'CGRP Nasal', 'CGRP Nasal'), (802666518895896, 60, 'Zavegepant', 'CGRP Nasal', 'CGRP Nasal'), (802666518936497, 60, 'Zavegepant', 'CGRP Nasal', 'CGRP Nasal'), (802666521526277, 60, 'Zavegepant', 'CGRP Nasal', 'CGRP Nasal'), (802666522657633, 60, 'Zavegepant', 'CGRP Nasal', 'CGRP Nasal'), (802666522679266, 60, 'Zavegepant', 'CGRP Nasal', 'CGRP Nasal'), (802666524566123, 60, 'Zavegepant', 'CGRP Nasal', 'CGRP Nasal'), (802666527033509, 60, 'Zavegepant', 'CGRP Nasal', 'CGRP Nasal'), (802666527125434, 60, 'Zavegepant', 'CGRP Nasal', 'CGRP Nasal'), (802666528239455, 60, 'Zavegepant', 'CGRP Nasal', 'CGRP Nasal'), (802666528542550, 60, 'Zavegepant', 'CGRP Nasal', 'CGRP Nasal'), (802666529015089, 60, 'Zavegepant', 'CGRP Nasal', 'CGRP Nasal'), (802666529744214, 60, 'Zavegepant', 'CGRP Nasal', 'CGRP Nasal'), (802666531359685, 60, 'Zavegepant', 'CGRP Nasal', 'CGRP Nasal'), (802666538369016, 60, 'Zavegepant', 'CGRP Nasal', 'CGRP Nasal'), (802666546401058, 60, 'Zavegepant', 'CGRP Nasal', 'CGRP Nasal'), (802666548510265, 60, 'Zavegepant', 'CGRP Nasal', 'CGRP Nasal'), (802666552216347, 60, 'Zavegepant', 'CGRP Nasal', 'CGRP Nasal'), (802666553132215, 60, 'Zavegepant', 'CGRP Nasal', 'CGRP Nasal'), (802666554012406, 60, 'Zavegepant', 'CGRP Nasal', 'CGRP Nasal'), (802666554727381, 60, 'Zavegepant', 'CGRP Nasal', 'CGRP Nasal'), (802666554818473, 60, 'Zavegepant', 'CGRP Nasal', 'CGRP Nasal'), (802666556605319, 60, 'Zavegepant', 'CGRP Nasal', 'CGRP Nasal'), (802666557382443, 60, 'Zavegepant', 'CGRP Nasal', 'CGRP Nasal'), (802666557725337, 60, 'Zavegepant', 'CGRP Nasal', 'CGRP Nasal'), (802666558853873, 60, 'Zavegepant', 'CGRP Nasal', 'CGRP Nasal'), (802666563858737, 60, 'Zavegepant', 'CGRP Nasal', 'CGRP Nasal'), (802666564151544, 60, 'Zavegepant', 'CGRP Nasal', 'CGRP Nasal'), (802666565810561, 60, 'Zavegepant', 'CGRP Nasal', 'CGRP Nasal'), (802666567644695, 60, 'Zavegepant', 'CGRP Nasal', 'CGRP Nasal'), (802666568838253, 60, 'Zavegepant', 'CGRP Nasal', 'CGRP Nasal'), (802666569332566, 60, 'Zavegepant', 'CGRP Nasal', 'CGRP Nasal'), (802666569359519, 60, 'Zavegepant', 'CGRP Nasal', 'CGRP Nasal'), (802666572722649, 60, 'Zavegepant', 'CGRP Nasal', 'CGRP Nasal'), (802666572740675, 60, 'Zavegepant', 'CGRP Nasal', 'CGRP Nasal'), (802666576695693, 60, 'Zavegepant', 'CGRP Nasal', 'CGRP Nasal'), (802666578801809, 60, 'Zavegepant', 'CGRP Nasal', 'CGRP Nasal'), (802666585012418, 60, 'Zavegepant', 'CGRP Nasal', 'CGRP Nasal'), (802666586432161, 60, 'Zavegepant', 'CGRP Nasal', 'CGRP Nasal'), (802666591981546, 60, 'Zavegepant', 'CGRP Nasal', 'CGRP Nasal'), (802666597540152, 60, 'Zavegepant', 'CGRP Nasal', 'CGRP Nasal'), (802666597928938, 60, 'Zavegepant', 'CGRP Nasal', 'CGRP Nasal'), (802666900904764, 60, 'Zavegepant', 'CGRP Nasal', 'CGRP Nasal'), (802666901408598, 60, 'Zavegepant', 'CGRP Nasal', 'CGRP Nasal'), (802666909742179, 60, 'Zavegepant', 'CGRP Nasal', 'CGRP Nasal'), (802666911607032, 60, 'Zavegepant', 'CGRP Nasal', 'CGRP Nasal'), (802666917503685, 60, 'Zavegepant', 'CGRP Nasal', 'CGRP Nasal'), (802666924697220, 60, 'Zavegepant', 'CGRP Nasal', 'CGRP Nasal'), (802666930336782, 60, 'Zavegepant', 'CGRP Nasal', 'CGRP Nasal'), (802666930525437, 60, 'Zavegepant', 'CGRP Nasal', 'CGRP Nasal'), (802666932235066, 60, 'Zavegepant', 'CGRP Nasal', 'CGRP Nasal'), (802666938470451, 60, 'Zavegepant', 'CGRP Nasal', 'CGRP Nasal'), (802666938593293, 60, 'Zavegepant', 'CGRP Nasal', 'CGRP Nasal'), (802666940661126, 60, 'Zavegepant', 'CGRP Nasal', 'CGRP Nasal'), (802666941105489, 60, 'Zavegepant', 'CGRP Nasal', 'CGRP Nasal'), (802666945678010, 60, 'Zavegepant', 'CGRP Nasal', 'CGRP Nasal'), (802666949532487, 60, 'Zavegepant', 'CGRP Nasal', 'CGRP Nasal'), (802666951522243, 60, 'Zavegepant', 'CGRP Nasal', 'CGRP Nasal'), (802666960909987, 60, 'Zavegepant', 'CGRP Nasal', 'CGRP Nasal'), (802666961119232, 60, 'Zavegepant', 'CGRP Nasal', 'CGRP Nasal'), (802666966289601, 60, 'Zavegepant', 'CGRP Nasal', 'CGRP Nasal'), (802666978718572, 60, 'Zavegepant', 'CGRP Nasal', 'CGRP Nasal'), (802666979956186, 60, 'Zavegepant', 'CGRP Nasal', 'CGRP Nasal'), (802666981083636, 60, 'Zavegepant', 'CGRP Nasal', 'CGRP Nasal'), (802666984921207, 60, 'Zavegepant', 'CGRP Nasal', 'CGRP Nasal'), (802666984969484, 60, 'Zavegepant', 'CGRP Nasal', 'CGRP Nasal'), (802666995276644, 60, 'Zavegepant', 'CGRP Nasal', 'CGRP Nasal'), (802666998235267, 60, 'Zavegepant', 'CGRP Nasal', 'CGRP Nasal')]\""
      ]
     },
     "execution_count": 41,
     "metadata": {},
     "output_type": "execute_result"
    }
   ],
   "source": [
    "db = SQLDatabase(engine=engine)\n",
    "print(db.dialect)\n",
    "print(db.get_usable_table_names())\n",
    "db.run(\"SELECT * FROM zavegepant WHERE molecule_name == 'Zavegepant';\")"
   ]
  },
  {
   "cell_type": "code",
   "execution_count": 42,
   "metadata": {},
   "outputs": [],
   "source": [
    "from langchain_community.agent_toolkits import create_sql_agent\n",
    "from langchain_openai import ChatOpenAI\n",
    "\n",
    "llm = ChatOpenAI(model=\"gpt-3.5-turbo\", temperature=0)\n",
    "agent_executor = create_sql_agent(llm, db=db, agent_type=\"openai-tools\", verbose=True)"
   ]
  },
  {
   "cell_type": "code",
   "execution_count": 43,
   "metadata": {},
   "outputs": [
    {
     "name": "stdout",
     "output_type": "stream",
     "text": [
      "\n",
      "\n",
      "\u001b[1m> Entering new SQL Agent Executor chain...\u001b[0m\n",
      "\u001b[32;1m\u001b[1;3m\n",
      "Invoking: `sql_db_list_tables` with `{}`\n",
      "\n",
      "\n",
      "\u001b[0m\u001b[38;5;200m\u001b[1;3mzavegepant\u001b[0m\u001b[32;1m\u001b[1;3m\n",
      "Invoking: `sql_db_schema` with `{'table_names': 'zavegepant'}`\n",
      "\n",
      "\n",
      "\u001b[0m\u001b[33;1m\u001b[1;3m\n",
      "CREATE TABLE zavegepant (\n",
      "\tpatient_id BIGINT, \n",
      "\tmonth BIGINT, \n",
      "\tmolecule_name TEXT, \n",
      "\tclass_name TEXT, \n",
      "\tpatient_stock_name TEXT\n",
      ")\n",
      "\n",
      "/*\n",
      "3 rows from zavegepant table:\n",
      "patient_id\tmonth\tmolecule_name\tclass_name\tpatient_stock_name\n",
      "802666100240045\t1\tlapsed\tlapsed\tLapsed\n",
      "802666100631977\t1\tlapsed\tlapsed\tLapsed\n",
      "802666101406173\t1\tlapsed\tlapsed\tLapsed\n",
      "*/\u001b[0m\u001b[32;1m\u001b[1;3m\n",
      "Invoking: `sql_db_query` with `{'query': \"SELECT COUNT(DISTINCT patient_id) AS distinct_patients FROM zavegepant WHERE molecule_name = 'Zavegepant' AND month = 60\"}`\n",
      "\n",
      "\n",
      "\u001b[0m\u001b[36;1m\u001b[1;3m[(138,)]\u001b[0m\u001b[32;1m\u001b[1;3mThere are 138 distinct patients who were ON Zavegepant on month 60.\u001b[0m\n",
      "\n",
      "\u001b[1m> Finished chain.\u001b[0m\n"
     ]
    },
    {
     "data": {
      "text/plain": [
       "{'input': 'How many distinct patients where ON Zavegepant ON month 60?',\n",
       " 'output': 'There are 138 distinct patients who were ON Zavegepant on month 60.'}"
      ]
     },
     "execution_count": 43,
     "metadata": {},
     "output_type": "execute_result"
    }
   ],
   "source": [
    "agent_executor.invoke(\n",
    "    \"How many distinct patients where ON Zavegepant ON month 60?\"\n",
    ")"
   ]
  },
  {
   "cell_type": "code",
   "execution_count": 44,
   "metadata": {},
   "outputs": [],
   "source": [
    "examples = [\n",
    "    {   \"input\": \"List all different stocks.\", \n",
    "        \"query\": \"DISTINCT patient_stock_name FROM zavegepant;\"\n",
    "    },\n",
    "    {\n",
    "        \"input\": \"How many patients are ON the stock CGRP Nasal ON month 60?.\",\n",
    "        \"query\": \"SELECT COUNT(DISTINCT patient_id) AS unique_patient_count FROM zavegepant WHERE month == 60 AND patient_stock_name = 'CGRP Nasal';\",\n",
    "    },\n",
    "    {\n",
    "        \"input\": \"How many patients started ON a CGRP Oral anew over the past 12 months?\",\n",
    "        \"query\": \"SELECT COUNT(DISTINCT patient_id) AS new_patients_count FROM zavegepant WHERE month > 48 AND class_name = 'CGRP Oral' AND patient_id NOT IN (SELECT DISTINCT patient_id FROM zavegepant WHERE month <= 48 AND class_name = 'CGRP Oral');\",\n",
    "    },\n",
    "    {\n",
    "        \"input\": \"Find the average number of months a patient spends on a NSAID class.\",\n",
    "        \"query\": \"SELECT AVG(month_count) AS average_months_on_NSAID FROM (SELECT patient_id, COUNT(DISTINCT month) AS month_count FROM zavegepant WHERE class_name = 'NSAID' GROUP BY patient_id) AS subquery;\",\n",
    "    },\n",
    "    {\n",
    "        \"input\": \"List all different drug classes.\",\n",
    "        \"query\": \"DISTINCT class_name FROM zavegepant;\",\n",
    "    },\n",
    "    {\n",
    "        \"input\": \"How many different molecules are there? \",\n",
    "        \"query\": \"SELECT COUNT(DISTINCT molecule_name) AS distinct_molecule_count FROM zavegepant;\",\n",
    "    },\n",
    "]"
   ]
  },
  {
   "cell_type": "code",
   "execution_count": 45,
   "metadata": {},
   "outputs": [],
   "source": [
    "from langchain_community.vectorstores import FAISS\n",
    "from langchain_core.example_selectors import SemanticSimilarityExampleSelector\n",
    "from langchain_openai import OpenAIEmbeddings\n",
    "\n",
    "example_selector = SemanticSimilarityExampleSelector.from_examples(\n",
    "    examples,\n",
    "    OpenAIEmbeddings(),\n",
    "    FAISS,\n",
    "    k=5,\n",
    "    input_keys=[\"input\"],\n",
    ")"
   ]
  },
  {
   "cell_type": "code",
   "execution_count": 46,
   "metadata": {},
   "outputs": [],
   "source": [
    "from langchain_core.prompts import (\n",
    "    ChatPromptTemplate,\n",
    "    FewShotPromptTemplate,\n",
    "    MessagesPlaceholder,\n",
    "    PromptTemplate,\n",
    "    SystemMessagePromptTemplate,\n",
    ")\n",
    "\n",
    "system_prefix = \"\"\"You are an agent designed to interact with a SQL database.\n",
    "Given an input question, create a syntactically correct {dialect} query to run, then look at the results of the query and return the answer.\n",
    "Unless the user specifies a specific number of examples they wish to obtain, always limit your query to at most {top_k} results.\n",
    "You can order the results by a relevant column to return the most interesting examples in the database.\n",
    "Never query for all the columns from a specific table, only ask for the relevant columns given the question.\n",
    "You have access to tools for interacting with the database.\n",
    "Only use the given tools. Only use the information returned by the tools to construct your final answer.\n",
    "You MUST double check your query before executing it. If you get an error while executing a query, rewrite the query and try again.\n",
    "\n",
    "DO NOT make any DML statements (INSERT, UPDATE, DELETE, DROP etc.) to the database.\n",
    "\n",
    "If the question does not seem related to the database, just return \"I don't know\" as the answer.\n",
    "\n",
    "Here are some examples of user inputs and their corresponding SQL queries:\"\"\"\n",
    "\n",
    "few_shot_prompt = FewShotPromptTemplate(\n",
    "    example_selector=example_selector,\n",
    "    example_prompt=PromptTemplate.from_template(\n",
    "        \"User input: {input}\\nSQL query: {query}\"\n",
    "    ),\n",
    "    input_variables=[\"input\", \"dialect\", \"top_k\"],\n",
    "    prefix=system_prefix,\n",
    "    suffix=\"\",\n",
    ")"
   ]
  },
  {
   "cell_type": "code",
   "execution_count": 47,
   "metadata": {},
   "outputs": [],
   "source": [
    "full_prompt = ChatPromptTemplate.from_messages(\n",
    "    [\n",
    "        SystemMessagePromptTemplate(prompt=few_shot_prompt),\n",
    "        (\"human\", \"{input}\"),\n",
    "        MessagesPlaceholder(\"agent_scratchpad\"),\n",
    "    ]\n",
    ")"
   ]
  },
  {
   "cell_type": "code",
   "execution_count": 48,
   "metadata": {},
   "outputs": [
    {
     "name": "stdout",
     "output_type": "stream",
     "text": [
      "System: You are an agent designed to interact with a SQL database.\n",
      "Given an input question, create a syntactically correct SQLite query to run, then look at the results of the query and return the answer.\n",
      "Unless the user specifies a specific number of examples they wish to obtain, always limit your query to at most 5 results.\n",
      "You can order the results by a relevant column to return the most interesting examples in the database.\n",
      "Never query for all the columns from a specific table, only ask for the relevant columns given the question.\n",
      "You have access to tools for interacting with the database.\n",
      "Only use the given tools. Only use the information returned by the tools to construct your final answer.\n",
      "You MUST double check your query before executing it. If you get an error while executing a query, rewrite the query and try again.\n",
      "\n",
      "DO NOT make any DML statements (INSERT, UPDATE, DELETE, DROP etc.) to the database.\n",
      "\n",
      "If the question does not seem related to the database, just return \"I don't know\" as the answer.\n",
      "\n",
      "Here are some examples of user inputs and their corresponding SQL queries:\n",
      "\n",
      "User input: How many patients are ON the stock CGRP Nasal ON month 60?.\n",
      "SQL query: SELECT COUNT(DISTINCT patient_id) AS unique_patient_count FROM zavegepant WHERE month == 60 AND patient_stock_name = 'CGRP Nasal';\n",
      "\n",
      "User input: How many patients started ON a CGRP Oral anew over the past 12 months?\n",
      "SQL query: SELECT COUNT(DISTINCT patient_id) AS new_patients_count FROM zavegepant WHERE month > 48 AND class_name = 'CGRP Oral' AND patient_id NOT IN (SELECT DISTINCT patient_id FROM zavegepant WHERE month <= 48 AND class_name = 'CGRP Oral');\n",
      "\n",
      "User input: Find the average number of months a patient spends on a NSAID class.\n",
      "SQL query: SELECT AVG(month_count) AS average_months_on_NSAID FROM (SELECT patient_id, COUNT(DISTINCT month) AS month_count FROM zavegepant WHERE class_name = 'NSAID' GROUP BY patient_id) AS subquery;\n",
      "\n",
      "User input: List all different drug classes.\n",
      "SQL query: DISTINCT class_name FROM zavegepant;\n",
      "\n",
      "User input: How many different molecules are there? \n",
      "SQL query: SELECT COUNT(DISTINCT molecule_name) AS distinct_molecule_count FROM zavegepant;\n",
      "Human: How many patients were on a CGRP Injectable drug class on month 60?\n"
     ]
    }
   ],
   "source": [
    "# Example formatted prompt\n",
    "prompt_val = full_prompt.invoke(\n",
    "    {\n",
    "        \"input\": \"How many patients were on a CGRP Injectable drug class on month 60?\",\n",
    "        \"top_k\": 5,\n",
    "        \"dialect\": \"SQLite\",\n",
    "        \"agent_scratchpad\": [],\n",
    "    }\n",
    ")\n",
    "print(prompt_val.to_string())"
   ]
  },
  {
   "cell_type": "code",
   "execution_count": 49,
   "metadata": {},
   "outputs": [],
   "source": [
    "agent = create_sql_agent(\n",
    "    llm=llm,\n",
    "    db=db,\n",
    "    prompt=full_prompt,\n",
    "    verbose=True,\n",
    "    agent_type=\"openai-tools\",\n",
    ")"
   ]
  },
  {
   "cell_type": "code",
   "execution_count": 50,
   "metadata": {},
   "outputs": [
    {
     "name": "stdout",
     "output_type": "stream",
     "text": [
      "\n",
      "\n",
      "\u001b[1m> Entering new SQL Agent Executor chain...\u001b[0m\n",
      "\u001b[32;1m\u001b[1;3m\n",
      "Invoking: `sql_db_query` with `{'query': \"SELECT COUNT(DISTINCT patient_id) AS patient_count FROM zavegepant WHERE class_name = 'CGRP Injectable' AND month = 60;\"}`\n",
      "\n",
      "\n",
      "\u001b[0m\u001b[36;1m\u001b[1;3m[(106,)]\u001b[0m\u001b[32;1m\u001b[1;3mThere were 106 patients on a CGRP Injectable drug class on month 60.\u001b[0m\n",
      "\n",
      "\u001b[1m> Finished chain.\u001b[0m\n"
     ]
    },
    {
     "data": {
      "text/plain": [
       "{'input': 'How many patients were on a CGRP Injectable drug class on month 60?',\n",
       " 'output': 'There were 106 patients on a CGRP Injectable drug class on month 60.'}"
      ]
     },
     "execution_count": 50,
     "metadata": {},
     "output_type": "execute_result"
    }
   ],
   "source": [
    "agent.invoke({\"input\": \"How many patients were on a CGRP Injectable drug class on month 60?\"})"
   ]
  },
  {
   "cell_type": "code",
   "execution_count": 51,
   "metadata": {},
   "outputs": [
    {
     "data": {
      "text/plain": [
       "['Verapamil', 'Meperidine', 'Venlafaxine', 'Codeine', 'Zolmitriptan']"
      ]
     },
     "execution_count": 51,
     "metadata": {},
     "output_type": "execute_result"
    }
   ],
   "source": [
    "import ast\n",
    "import re\n",
    "\n",
    "\n",
    "def query_as_list(db, query):\n",
    "    res = db.run(query)\n",
    "    res = [el for sub in ast.literal_eval(res) for el in sub if el]\n",
    "    res = [re.sub(r\"\\b\\d+\\b\", \"\", string).strip() for string in res]\n",
    "    return list(set(res))\n",
    "\n",
    "\n",
    "molecules = query_as_list(db, \"SELECT molecule_name  FROM zavegepant\")\n",
    "classes = query_as_list(db, \"SELECT class_name  FROM zavegepant\")\n",
    "stocks = query_as_list(db, \"SELECT patient_stock_name FROM zavegepant\")\n",
    "molecules[:5]"
   ]
  },
  {
   "cell_type": "code",
   "execution_count": 52,
   "metadata": {},
   "outputs": [],
   "source": [
    "from langchain.agents.agent_toolkits import create_retriever_tool\n",
    "\n",
    "vector_db = FAISS.from_texts(molecules + classes + stocks, OpenAIEmbeddings())\n",
    "retriever = vector_db.as_retriever(search_kwargs={\"k\": 5})\n",
    "description = \"\"\"Use to look up values to filter on. Input is an approximate spelling of the proper noun, output is \\\n",
    "valid proper nouns. Use the noun most similar to the search.\"\"\"\n",
    "retriever_tool = create_retriever_tool(\n",
    "    retriever,\n",
    "    name=\"search_proper_nouns\",\n",
    "    description=description,\n",
    ")"
   ]
  },
  {
   "cell_type": "code",
   "execution_count": 53,
   "metadata": {},
   "outputs": [],
   "source": [
    "system = \"\"\"You are an agent designed to interact with a SQL database.\n",
    "Given an input question, create a syntactically correct {dialect} query to run, then look at the results of the query and return the answer.\n",
    "Unless the user specifies a specific number of examples they wish to obtain, always limit your query to at most {top_k} results.\n",
    "You can order the results by a relevant column to return the most interesting examples in the database.\n",
    "Never query for all the columns from a specific table, only ask for the relevant columns given the question.\n",
    "You have access to tools for interacting with the database.\n",
    "Only use the given tools. Only use the information returned by the tools to construct your final answer.\n",
    "You MUST double check your query before executing it. If you get an error while executing a query, rewrite the query and try again.\n",
    "\n",
    "DO NOT make any DML statements (INSERT, UPDATE, DELETE, DROP etc.) to the database.\n",
    "\n",
    "If you need to filter on a proper noun, you must ALWAYS first look up the filter value using the \"search_proper_nouns\" tool! \n",
    "\n",
    "You have access to the following tables: {table_names}\n",
    "\n",
    "If the question does not seem related to the database, just return \"I don't know\" as the answer.\n",
    "\n",
    "\n",
    "Any question pertaining to 'molecules' or 'drugs' refers to any of the different generic drug names column 'molecule_name' from the 'zavegepant' table.\n",
    "\n",
    "Any question pertaining to 'drug classes' refers to any of the following: \n",
    "['lapsed' 'NSAID' 'Weak Opioid' 'Antiemetic' 'Steroid' 'Sedative'\n",
    " 'Antipsychotic' 'Triptan' 'Antiepileptic' 'SSRI' 'Strong Opioid' 'SNRI'\n",
    " 'Neural' 'Muscle Relaxant' 'Cardiovascular' 'Beta Blocker'\n",
    " 'CGRP Injectable' 'Analgesic' 'Ergot' 'Tricyclic' 'Calcium Blocker'\n",
    " 'CGRP Oral' 'Ditan' 'CGRP Nasal'],  which can be found on the colunm 'class_name' from the 'zavegepant' table.\n",
    "\n",
    "Any question pertaining to 'stocks' refers to any of the following ['Lapsed' 'Preventive' 'Symptomatic' 'Naive' 'Triptans' 'CGRP Injectable' 'CGRP Oral' 'CGRP Nasal'],\n",
    "which can be found on the colunm 'patient_stock_name' from the 'zavegepant' table.\n",
    "\n",
    "If you can't find the exact molecule/class/stock asked for, please look up the closest noun. Allow for misspelled words.\n",
    "\"\"\"\n",
    "\n",
    "prompt = ChatPromptTemplate.from_messages(\n",
    "    [(\"system\", system), (\"human\", \"{input}\"), MessagesPlaceholder(\"agent_scratchpad\")]\n",
    ")\n",
    "agent = create_sql_agent(\n",
    "    llm=llm,\n",
    "    db=db,\n",
    "    extra_tools=[retriever_tool],\n",
    "    prompt=prompt,\n",
    "    agent_type=\"openai-tools\",\n",
    "    verbose=True,\n",
    ")"
   ]
  },
  {
   "cell_type": "code",
   "execution_count": 55,
   "metadata": {},
   "outputs": [
    {
     "name": "stdout",
     "output_type": "stream",
     "text": [
      "\n",
      "\n",
      "\u001b[1m> Entering new SQL Agent Executor chain...\u001b[0m\n",
      "\u001b[32;1m\u001b[1;3m\n",
      "Invoking: `search_proper_nouns` with `{'query': 'ZavegOpant'}`\n",
      "\n",
      "\n",
      "\u001b[0m\u001b[36;1m\u001b[1;3mZavegepant\n",
      "\n",
      "Atogepant\n",
      "\n",
      "Ubrogepant\n",
      "\n",
      "Rimegepant\n",
      "\n",
      "Ditan\u001b[0m\u001b[32;1m\u001b[1;3m\n",
      "Invoking: `sql_db_query` with `{'query': \"SELECT COUNT(DISTINCT patient_id) AS unique_patients FROM zavegepant WHERE molecule_name = 'Zavegepant' AND month = 60\"}`\n",
      "\n",
      "\n",
      "\u001b[0m\u001b[36;1m\u001b[1;3m[(138,)]\u001b[0m\u001b[32;1m\u001b[1;3mThere were 138 unique patients on the molecule Zavegepant on month 60.\u001b[0m\n",
      "\n",
      "\u001b[1m> Finished chain.\u001b[0m\n"
     ]
    },
    {
     "data": {
      "text/plain": [
       "{'input': 'How many unique patients were ON the molecule_name ZavegOpant on month 60?',\n",
       " 'output': 'There were 138 unique patients on the molecule Zavegepant on month 60.'}"
      ]
     },
     "execution_count": 55,
     "metadata": {},
     "output_type": "execute_result"
    }
   ],
   "source": [
    "agent.invoke({\"input\": \"How many unique patients were ON the molecule_name ZavegOpant on month 60?\"})"
   ]
  }
 ],
 "metadata": {
  "kernelspec": {
   "display_name": "myproject_kernel",
   "language": "python",
   "name": "myproject_kernel"
  },
  "language_info": {
   "codemirror_mode": {
    "name": "ipython",
    "version": 3
   },
   "file_extension": ".py",
   "mimetype": "text/x-python",
   "name": "python",
   "nbconvert_exporter": "python",
   "pygments_lexer": "ipython3",
   "version": "3.10.11"
  }
 },
 "nbformat": 4,
 "nbformat_minor": 2
}
