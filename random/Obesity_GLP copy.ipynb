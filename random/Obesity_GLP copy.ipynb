{
 "cells": [
  {
   "cell_type": "code",
   "execution_count": null,
   "metadata": {},
   "outputs": [],
   "source": [
    "import pandas as pd\n",
    "import numpy as np\n",
    "import matplotlib.pyplot as plt\n",
    "\n",
    "import tensorflow as tf\n",
    "from tensorflow.keras.models import Sequential\n",
    "from tensorflow.keras.layers import Dense, Dropout\n",
    "\n",
    "from sklearn.model_selection import train_test_split\n",
    "from sklearn.preprocessing import StandardScaler\n"
   ]
  },
  {
   "cell_type": "code",
   "execution_count": null,
   "metadata": {},
   "outputs": [],
   "source": [
    "obe2_drug_histories = pd.read_csv(\"../Source/OBE2 Drug Histories.txt\", delimiter=\"\\t\")\n",
    "dia_drug_histories = pd.read_csv(\"../Source/DIA Drug Histories.txt\", delimiter=\"\\t\")"
   ]
  },
  {
   "cell_type": "code",
   "execution_count": null,
   "metadata": {},
   "outputs": [],
   "source": [
    "# drug_histories = pd.concat([dia_drug_histories, obe2_drug_histories], ignore_index=True)\n",
    "drug_histories = dia_drug_histories\n",
    "drug_histories = drug_histories.melt(id_vars=['patient', 'disease', 'weight'],  var_name='Month', value_name='Drugs')\n",
    "\n",
    "drug_histories = drug_histories.drop(columns=['disease', 'weight'])"
   ]
  },
  {
   "cell_type": "code",
   "execution_count": null,
   "metadata": {},
   "outputs": [],
   "source": [
    "danu_demographics = pd.read_csv(\"../Source/DANU Demographics.txt\", delimiter=\"\\t\")\n",
    "danu_demographics_filtered = danu_demographics[danu_demographics['diagnosis'].str.contains(\"Obesity\", na=False)][['patid']]\n",
    "danu_demographics_filtered = danu_demographics_filtered.rename(columns={\"patid\": \"patient\"})\n",
    "\n",
    "drug_histories = pd.merge(danu_demographics_filtered, drug_histories, left_on='patient', right_on='patient', how='inner')\n"
   ]
  },
  {
   "cell_type": "code",
   "execution_count": null,
   "metadata": {},
   "outputs": [],
   "source": [
    "drug_histories = drug_histories[drug_histories['Drugs'] != \"-\"].drop(columns=['Month']).drop_duplicates()\n",
    "drug_histories['patient'].nunique()"
   ]
  },
  {
   "cell_type": "code",
   "execution_count": null,
   "metadata": {},
   "outputs": [],
   "source": [
    "drug_histories['Drugs'] = drug_histories['Drugs'].str.split(',')\n",
    "drug_histories = drug_histories.explode('Drugs')"
   ]
  },
  {
   "cell_type": "code",
   "execution_count": null,
   "metadata": {},
   "outputs": [],
   "source": [
    "danu_ingredients = pd.read_csv(\"../Source/DANU Ingredients.txt\", delimiter=\"\\t\", dtype=str)\n",
    "danu_ingredients[['class', 'molecule']] = danu_ingredients['drug_id'].str.split(':', expand=True)\n",
    "danu_ingredients = danu_ingredients[['molecule', 'drug_class']]"
   ]
  },
  {
   "cell_type": "code",
   "execution_count": null,
   "metadata": {},
   "outputs": [],
   "source": [
    "drug_histories['Drugs'] = drug_histories['Drugs'].astype(str)\n",
    "drug_histories = drug_histories.merge(danu_ingredients, left_on=\"Drugs\", right_on=\"molecule\", how=\"left\")\n"
   ]
  },
  {
   "cell_type": "code",
   "execution_count": null,
   "metadata": {},
   "outputs": [],
   "source": [
    "drug_histories = drug_histories.drop(columns=['Drugs', 'molecule'])\n",
    "drug_histories = drug_histories.drop_duplicates()"
   ]
  },
  {
   "cell_type": "code",
   "execution_count": null,
   "metadata": {},
   "outputs": [],
   "source": [
    "danu_drug_utilizations_full = pd.read_csv(\"../Source/DANU Drug Utilizations Full.txt\", delimiter=\"\\t\")\n",
    "danu_drug_utilizations_full = danu_drug_utilizations_full[['patid', 'drug_ahfs_class']].drop_duplicates()\n",
    "danu_drug_utilizations_full['drug_ahfs_class'].nunique()"
   ]
  },
  {
   "cell_type": "code",
   "execution_count": null,
   "metadata": {},
   "outputs": [],
   "source": [
    "danu_drug_utilizations_full = danu_drug_utilizations_full.rename(columns={'patid': 'patient'})\n",
    "danu_drug_utilizations_full = danu_drug_utilizations_full.rename(columns={'drug_ahfs_class': 'drug_class'})"
   ]
  },
  {
   "cell_type": "code",
   "execution_count": null,
   "metadata": {},
   "outputs": [],
   "source": [
    "drug_histories = pd.concat([drug_histories, danu_drug_utilizations_full], ignore_index=True)\n"
   ]
  },
  {
   "cell_type": "code",
   "execution_count": null,
   "metadata": {},
   "outputs": [],
   "source": []
  },
  {
   "cell_type": "code",
   "execution_count": null,
   "metadata": {},
   "outputs": [],
   "source": [
    "drug_histories['exp'] = 1\n",
    "drug_histories = drug_histories.pivot(index='patient', columns='drug_class', values='exp')\n",
    "drug_histories = drug_histories.fillna(0)"
   ]
  },
  {
   "cell_type": "code",
   "execution_count": null,
   "metadata": {},
   "outputs": [],
   "source": [
    "drug_histories.rename(columns=lambda s: s.replace(\" \", \"_\"), inplace=True)\n",
    "drug_histories.rename(columns=lambda s: s.replace(\"-\", \"_\"), inplace=True)\n",
    "drug_histories.rename(columns=lambda s: s.replace(\",\", \"_\"), inplace=True)\n",
    "drug_histories.rename(columns=lambda s: s.replace(\"&\", \"_\"), inplace=True)"
   ]
  },
  {
   "cell_type": "code",
   "execution_count": null,
   "metadata": {},
   "outputs": [],
   "source": [
    "print(drug_histories.index.name)"
   ]
  },
  {
   "cell_type": "code",
   "execution_count": null,
   "metadata": {},
   "outputs": [],
   "source": [
    "Comorbidity_Inventories = pd.read_csv(\"../Source/Comorbidity_Inventories.txt\", delimiter=\",\")\n",
    "\n"
   ]
  },
  {
   "cell_type": "code",
   "execution_count": null,
   "metadata": {},
   "outputs": [],
   "source": [
    "drug_histories = drug_histories.rename_axis(None)"
   ]
  },
  {
   "cell_type": "code",
   "execution_count": null,
   "metadata": {},
   "outputs": [],
   "source": [
    "drug_histories = drug_histories.rename(columns={'patient': 'drug_class'})"
   ]
  },
  {
   "cell_type": "code",
   "execution_count": null,
   "metadata": {},
   "outputs": [],
   "source": [
    "columns = pd.DataFrame(drug_histories.columns)\n"
   ]
  },
  {
   "cell_type": "code",
   "execution_count": null,
   "metadata": {},
   "outputs": [],
   "source": [
    "drug_histories['patient'] = drug_histories.index"
   ]
  },
  {
   "cell_type": "code",
   "execution_count": null,
   "metadata": {},
   "outputs": [],
   "source": [
    "drug_histories = drug_histories.merge(Comorbidity_Inventories, left_on=\"patient\", right_on=\"patient\", how=\"left\")\n"
   ]
  },
  {
   "cell_type": "code",
   "execution_count": null,
   "metadata": {},
   "outputs": [],
   "source": [
    "drug_histories = drug_histories.fillna(0)"
   ]
  },
  {
   "cell_type": "code",
   "execution_count": null,
   "metadata": {},
   "outputs": [],
   "source": [
    "del Comorbidity_Inventories"
   ]
  },
  {
   "cell_type": "code",
   "execution_count": null,
   "metadata": {},
   "outputs": [],
   "source": [
    "def glp(row):\n",
    "    if row['GLP1_Oral'] == 1:\n",
    "        val = 1\n",
    "    elif row['GLP1_Injectable'] ==1:\n",
    "        val = 1\n",
    "    else:\n",
    "        val = 0\n",
    "    return val"
   ]
  },
  {
   "cell_type": "code",
   "execution_count": null,
   "metadata": {},
   "outputs": [],
   "source": [
    "drug_histories['GLP'] = drug_histories.apply(glp, axis=1)"
   ]
  },
  {
   "cell_type": "code",
   "execution_count": null,
   "metadata": {},
   "outputs": [],
   "source": [
    "drug_histories.shape"
   ]
  },
  {
   "cell_type": "code",
   "execution_count": null,
   "metadata": {},
   "outputs": [],
   "source": [
    "drug_histories = drug_histories.drop(columns=['GLP1_Oral', 'GLP1_Injectable'])"
   ]
  },
  {
   "cell_type": "code",
   "execution_count": null,
   "metadata": {},
   "outputs": [],
   "source": [
    "drug_histories"
   ]
  },
  {
   "cell_type": "code",
   "execution_count": null,
   "metadata": {},
   "outputs": [],
   "source": []
  },
  {
   "cell_type": "code",
   "execution_count": null,
   "metadata": {},
   "outputs": [],
   "source": [
    "X = drug_histories.drop('GLP', axis=1)\n",
    "y = drug_histories['GLP']\n"
   ]
  },
  {
   "cell_type": "code",
   "execution_count": null,
   "metadata": {},
   "outputs": [],
   "source": [
    "sample_size = 1000\n",
    "class_0 = drug_histories[drug_histories['GLP'] == 0].sample(n=sample_size, random_state=42)\n",
    "class_1 = drug_histories[drug_histories['GLP'] == 1].sample(n=sample_size, random_state=42)"
   ]
  },
  {
   "cell_type": "code",
   "execution_count": null,
   "metadata": {},
   "outputs": [],
   "source": [
    "# sampled_data = pd.concat([class_0, class_1])\n",
    "\n",
    "sampled_data = drug_histories.sample(n=2000, random_state=42)"
   ]
  },
  {
   "cell_type": "code",
   "execution_count": null,
   "metadata": {},
   "outputs": [],
   "source": [
    "#sampled_data = sampled_data.drop(columns=['SGLT2', 'DPP4', 'Incretin_Mimetics', 'Insulin_Long', 'Insulin_Therapy', 'Insulin_Short', 'Biguanide', \n",
    "#                                          'AGI', 'Sulfonylurea', 'Sulfonylureas', 'Biguanides',  'Antidiabetic', 'Glinide', 'Glitazone', 'Sodium_Gluc_Cotransport_2_(Sglt2)_Inhib',\n",
    "#                                          'Alpha_Glucosidase_Inhibitors', 'Diabetes_Mellitus', 'Dipeptidyl_Peptidase_4(Dpp_4)_Inhibitors', 'Insulins', 'Intermediate_Acting_Insulins',\n",
    "#                                          'Pancreatic_Function', 'Rapid_Acting_Insulins', 'Short_Acting_Insulins', 'Long_Acting_Insulins', 'patient'])\n",
    "\n",
    "sampled_data = sampled_data.drop(columns=['Incretin_Mimetics', 'patient'])"
   ]
  },
  {
   "cell_type": "code",
   "execution_count": null,
   "metadata": {},
   "outputs": [],
   "source": [
    "X_sampled = sampled_data.drop('GLP', axis=1)\n",
    "y_sampled = sampled_data['GLP']\n"
   ]
  },
  {
   "cell_type": "code",
   "execution_count": null,
   "metadata": {},
   "outputs": [],
   "source": [
    "X_train, X_test, y_train, y_test = train_test_split(X_sampled, y_sampled, test_size=0.2, random_state=42)\n"
   ]
  },
  {
   "cell_type": "code",
   "execution_count": null,
   "metadata": {},
   "outputs": [],
   "source": [
    "scaler = StandardScaler()\n",
    "X_train = scaler.fit_transform(X_train)\n",
    "X_test = scaler.transform(X_test)"
   ]
  },
  {
   "cell_type": "code",
   "execution_count": null,
   "metadata": {},
   "outputs": [],
   "source": [
    "model = Sequential([\n",
    "    Dense(128, activation='relu', input_shape=(X_train.shape[1],)),\n",
    "    Dropout(0.5),\n",
    "    Dense(64, activation='relu'),\n",
    "    Dropout(0.5),\n",
    "    Dense(32, activation='relu'),\n",
    "    Dropout(0.5),\n",
    "    Dense(1, activation='sigmoid')\n",
    "])\n",
    "\n",
    "# Compile the model\n",
    "model.compile(optimizer='adam', loss='binary_crossentropy', metrics=['accuracy'])\n",
    "\n",
    "# Train the model\n",
    "history = model.fit(X_train, y_train, epochs=50, batch_size=32, validation_split=0.2)"
   ]
  },
  {
   "cell_type": "code",
   "execution_count": null,
   "metadata": {},
   "outputs": [],
   "source": [
    "test_loss, test_accuracy = model.evaluate(X_test, y_test)\n",
    "\n",
    "print(f'Test Accuracy: {test_accuracy}')"
   ]
  },
  {
   "cell_type": "code",
   "execution_count": null,
   "metadata": {},
   "outputs": [],
   "source": [
    "plt.plot(history.history['accuracy'])\n",
    "plt.plot(history.history['val_accuracy'])\n",
    "plt.title('Model accuracy')\n",
    "plt.xlabel('Epoch')\n",
    "plt.ylabel('Accuracy')\n",
    "plt.legend(['Train', 'Validation'], loc='upper left')\n",
    "plt.show()"
   ]
  },
  {
   "cell_type": "code",
   "execution_count": null,
   "metadata": {},
   "outputs": [],
   "source": [
    "def rgba_to_hex(rgba):\n",
    "    \"\"\"Convert RGBA color code to hexadecimal color code.\"\"\"\n",
    "    r, g, b, a = rgba\n",
    "    return \"#{:02X}{:02X}{:02X}\".format(int(r * 255), int(g * 255), int(b * 255))\n",
    "\n",
    "cmap = plt.get_cmap('RdBu')\n",
    "blue_hex = rgba_to_hex(cmap(0.0))\n",
    "red_hex = rgba_to_hex(cmap(1.0))\n",
    "print(red_hex, blue_hex)"
   ]
  },
  {
   "cell_type": "code",
   "execution_count": null,
   "metadata": {},
   "outputs": [],
   "source": [
    "sampled_data[sampled_data['GLP']==0]"
   ]
  },
  {
   "cell_type": "code",
   "execution_count": null,
   "metadata": {},
   "outputs": [],
   "source": [
    "import shap\n",
    "explainer = shap.Explainer(model, X_train)\n",
    "shap_values = explainer(X_test, max_evals=1500)"
   ]
  },
  {
   "cell_type": "code",
   "execution_count": null,
   "metadata": {},
   "outputs": [],
   "source": [
    "shap.summary_plot(shap_values, X_test, feature_names=sampled_data.columns, max_display=20)"
   ]
  },
  {
   "cell_type": "code",
   "execution_count": null,
   "metadata": {},
   "outputs": [],
   "source": [
    "shap.plots.beeswarm(shap_values,  color=plt.get_cmap(\"RdBu\"))\n"
   ]
  },
  {
   "cell_type": "code",
   "execution_count": null,
   "metadata": {},
   "outputs": [],
   "source": [
    "sampled_data.iloc[:,515]"
   ]
  },
  {
   "cell_type": "code",
   "execution_count": null,
   "metadata": {},
   "outputs": [],
   "source": [
    "print(drug_histories.shape)\n",
    "print(drug_histories[(drug_histories['J7']==0)].shape)\n",
    "print(drug_histories[(drug_histories['J7']==0)&(drug_histories['GLP']==1)].shape)\n",
    "print(drug_histories[(drug_histories['J7']==1)].shape)\n",
    "print(drug_histories[(drug_histories['J7']==1)&(drug_histories['GLP']==1)].shape)"
   ]
  },
  {
   "cell_type": "code",
   "execution_count": null,
   "metadata": {},
   "outputs": [],
   "source": [
    "print(52060/1348392)\n",
    "print(84/576)"
   ]
  },
  {
   "cell_type": "code",
   "execution_count": null,
   "metadata": {},
   "outputs": [],
   "source": [
    "shap.plots.heatmap(shap_values, max_display=10, plot_width=6, cmap=plt.get_cmap(\"RdBu\"))\n"
   ]
  },
  {
   "cell_type": "code",
   "execution_count": null,
   "metadata": {},
   "outputs": [],
   "source": [
    "sampled_data[sampled_data['GLP']==1]"
   ]
  }
 ],
 "metadata": {
  "kernelspec": {
   "display_name": "venv",
   "language": "python",
   "name": "python3"
  },
  "language_info": {
   "codemirror_mode": {
    "name": "ipython",
    "version": 3
   },
   "file_extension": ".py",
   "mimetype": "text/x-python",
   "name": "python",
   "nbconvert_exporter": "python",
   "pygments_lexer": "ipython3",
   "version": "3.10.6"
  }
 },
 "nbformat": 4,
 "nbformat_minor": 2
}
